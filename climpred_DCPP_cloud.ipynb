{
 "cells": [
  {
   "cell_type": "code",
   "execution_count": 9,
   "metadata": {},
   "outputs": [
    {
     "data": {
      "application/javascript": [
       "\n",
       "            setTimeout(function() {\n",
       "                var nbb_cell_id = 9;\n",
       "                var nbb_unformatted_code = \"%load_ext nb_black\";\n",
       "                var nbb_formatted_code = \"%load_ext nb_black\";\n",
       "                var nbb_cells = Jupyter.notebook.get_cells();\n",
       "                for (var i = 0; i < nbb_cells.length; ++i) {\n",
       "                    if (nbb_cells[i].input_prompt_number == nbb_cell_id) {\n",
       "                        if (nbb_cells[i].get_text() == nbb_unformatted_code) {\n",
       "                             nbb_cells[i].set_text(nbb_formatted_code);\n",
       "                        }\n",
       "                        break;\n",
       "                    }\n",
       "                }\n",
       "            }, 500);\n",
       "            "
      ],
      "text/plain": [
       "<IPython.core.display.Javascript object>"
      ]
     },
     "metadata": {},
     "output_type": "display_data"
    }
   ],
   "source": [
    "%load_ext nb_black"
   ]
  },
  {
   "cell_type": "code",
   "execution_count": 10,
   "metadata": {},
   "outputs": [
    {
     "data": {
      "application/javascript": [
       "\n",
       "            setTimeout(function() {\n",
       "                var nbb_cell_id = 10;\n",
       "                var nbb_unformatted_code = \"# Import some python libraries\\n%matplotlib inline\\n\\nimport numpy as np\\nimport xarray as xr\\nimport matplotlib.pyplot as plt\\nimport intake\\nimport climpred\";\n",
       "                var nbb_formatted_code = \"# Import some python libraries\\n%matplotlib inline\\n\\nimport numpy as np\\nimport xarray as xr\\nimport matplotlib.pyplot as plt\\nimport intake\\nimport climpred\";\n",
       "                var nbb_cells = Jupyter.notebook.get_cells();\n",
       "                for (var i = 0; i < nbb_cells.length; ++i) {\n",
       "                    if (nbb_cells[i].input_prompt_number == nbb_cell_id) {\n",
       "                        if (nbb_cells[i].get_text() == nbb_unformatted_code) {\n",
       "                             nbb_cells[i].set_text(nbb_formatted_code);\n",
       "                        }\n",
       "                        break;\n",
       "                    }\n",
       "                }\n",
       "            }, 500);\n",
       "            "
      ],
      "text/plain": [
       "<IPython.core.display.Javascript object>"
      ]
     },
     "metadata": {},
     "output_type": "display_data"
    }
   ],
   "source": [
    "# Import some python libraries\n",
    "%matplotlib inline\n",
    "\n",
    "import numpy as np\n",
    "import xarray as xr\n",
    "import matplotlib.pyplot as plt\n",
    "import intake\n",
    "import climpred"
   ]
  },
  {
   "cell_type": "code",
   "execution_count": 11,
   "metadata": {},
   "outputs": [
    {
     "data": {
      "application/javascript": [
       "\n",
       "            setTimeout(function() {\n",
       "                var nbb_cell_id = 11;\n",
       "                var nbb_unformatted_code = \"assert int(climpred.__version__.replace('.','')[:3])>=211\";\n",
       "                var nbb_formatted_code = \"assert int(climpred.__version__.replace(\\\".\\\", \\\"\\\")[:3]) >= 211\";\n",
       "                var nbb_cells = Jupyter.notebook.get_cells();\n",
       "                for (var i = 0; i < nbb_cells.length; ++i) {\n",
       "                    if (nbb_cells[i].input_prompt_number == nbb_cell_id) {\n",
       "                        if (nbb_cells[i].get_text() == nbb_unformatted_code) {\n",
       "                             nbb_cells[i].set_text(nbb_formatted_code);\n",
       "                        }\n",
       "                        break;\n",
       "                    }\n",
       "                }\n",
       "            }, 500);\n",
       "            "
      ],
      "text/plain": [
       "<IPython.core.display.Javascript object>"
      ]
     },
     "metadata": {},
     "output_type": "display_data"
    }
   ],
   "source": [
    "assert int(climpred.__version__.replace('.','')[:3])>=211"
   ]
  },
  {
   "cell_type": "code",
   "execution_count": 12,
   "metadata": {},
   "outputs": [
    {
     "data": {
      "application/javascript": [
       "\n",
       "            setTimeout(function() {\n",
       "                var nbb_cell_id = 12;\n",
       "                var nbb_unformatted_code = \"from dask_gateway import Gateway\\nfrom dask.distributed import Client\\n\\ngateway = Gateway()\\noptions = gateway.cluster_options()\\noptions.worker_cores = 4\\ncluster = gateway.new_cluster(cluster_options=options)\\n\\ncluster.scale(16) # scale up if more performance required\\nfrom time import sleep\\nsleep(10)\";\n",
       "                var nbb_formatted_code = \"from dask_gateway import Gateway\\nfrom dask.distributed import Client\\n\\ngateway = Gateway()\\noptions = gateway.cluster_options()\\noptions.worker_cores = 4\\ncluster = gateway.new_cluster(cluster_options=options)\\n\\ncluster.scale(16)  # scale up if more performance required\\nfrom time import sleep\\n\\nsleep(10)\";\n",
       "                var nbb_cells = Jupyter.notebook.get_cells();\n",
       "                for (var i = 0; i < nbb_cells.length; ++i) {\n",
       "                    if (nbb_cells[i].input_prompt_number == nbb_cell_id) {\n",
       "                        if (nbb_cells[i].get_text() == nbb_unformatted_code) {\n",
       "                             nbb_cells[i].set_text(nbb_formatted_code);\n",
       "                        }\n",
       "                        break;\n",
       "                    }\n",
       "                }\n",
       "            }, 500);\n",
       "            "
      ],
      "text/plain": [
       "<IPython.core.display.Javascript object>"
      ]
     },
     "metadata": {},
     "output_type": "display_data"
    }
   ],
   "source": [
    "from dask_gateway import Gateway\n",
    "from dask.distributed import Client\n",
    "\n",
    "gateway = Gateway()\n",
    "options = gateway.cluster_options()\n",
    "options.worker_cores = 4\n",
    "cluster = gateway.new_cluster(cluster_options=options)\n",
    "\n",
    "cluster.scale(16) # scale up if more performance required\n",
    "from time import sleep\n",
    "sleep(10)"
   ]
  },
  {
   "cell_type": "code",
   "execution_count": 13,
   "metadata": {},
   "outputs": [
    {
     "data": {
      "text/html": [
       "<table style=\"border: 2px solid white;\">\n",
       "<tr>\n",
       "<td style=\"vertical-align: top; border: 0px solid white\">\n",
       "<h3 style=\"text-align: left;\">Client</h3>\n",
       "<ul style=\"text-align: left; list-style: none; margin: 0; padding: 0;\">\n",
       "  <li><b>Scheduler: </b>gateway://traefik-gcp-uscentral1b-prod-dask-gateway.prod:80/prod.673871021baf47d2aad66a72848fdace</li>\n",
       "  <li><b>Dashboard: </b><a href='/services/dask-gateway/clusters/prod.673871021baf47d2aad66a72848fdace/status' target='_blank'>/services/dask-gateway/clusters/prod.673871021baf47d2aad66a72848fdace/status</a></li>\n",
       "</ul>\n",
       "</td>\n",
       "<td style=\"vertical-align: top; border: 0px solid white\">\n",
       "<h3 style=\"text-align: left;\">Cluster</h3>\n",
       "<ul style=\"text-align: left; list-style:none; margin: 0; padding: 0;\">\n",
       "  <li><b>Workers: </b>2</li>\n",
       "  <li><b>Cores: </b>8</li>\n",
       "  <li><b>Memory: </b>8.59 GB</li>\n",
       "</ul>\n",
       "</td>\n",
       "</tr>\n",
       "</table>"
      ],
      "text/plain": [
       "<Client: 'tls://10.36.149.2:8786' processes=1 threads=4, memory=4.29 GB>"
      ]
     },
     "execution_count": 13,
     "metadata": {},
     "output_type": "execute_result"
    },
    {
     "data": {
      "application/javascript": [
       "\n",
       "            setTimeout(function() {\n",
       "                var nbb_cell_id = 13;\n",
       "                var nbb_unformatted_code = \"client = cluster.get_client()\\nclient.restart()\\nclient\";\n",
       "                var nbb_formatted_code = \"client = cluster.get_client()\\nclient.restart()\\nclient\";\n",
       "                var nbb_cells = Jupyter.notebook.get_cells();\n",
       "                for (var i = 0; i < nbb_cells.length; ++i) {\n",
       "                    if (nbb_cells[i].input_prompt_number == nbb_cell_id) {\n",
       "                        if (nbb_cells[i].get_text() == nbb_unformatted_code) {\n",
       "                             nbb_cells[i].set_text(nbb_formatted_code);\n",
       "                        }\n",
       "                        break;\n",
       "                    }\n",
       "                }\n",
       "            }, 500);\n",
       "            "
      ],
      "text/plain": [
       "<IPython.core.display.Javascript object>"
      ]
     },
     "metadata": {},
     "output_type": "display_data"
    }
   ],
   "source": [
    "client = cluster.get_client()\n",
    "client.restart()\n",
    "client"
   ]
  },
  {
   "cell_type": "markdown",
   "metadata": {},
   "source": [
    "# setup `intake-esm`\n",
    "intake-esm.readthedocs.io/"
   ]
  },
  {
   "cell_type": "code",
   "execution_count": 14,
   "metadata": {},
   "outputs": [
    {
     "data": {
      "application/javascript": [
       "\n",
       "            setTimeout(function() {\n",
       "                var nbb_cell_id = 14;\n",
       "                var nbb_unformatted_code = \"col = intake.open_esm_datastore(\\\"https://raw.githubusercontent.com/NCAR/intake-esm-datastore/master/catalogs/pangeo-cmip6.json\\\")\";\n",
       "                var nbb_formatted_code = \"col = intake.open_esm_datastore(\\n    \\\"https://raw.githubusercontent.com/NCAR/intake-esm-datastore/master/catalogs/pangeo-cmip6.json\\\"\\n)\";\n",
       "                var nbb_cells = Jupyter.notebook.get_cells();\n",
       "                for (var i = 0; i < nbb_cells.length; ++i) {\n",
       "                    if (nbb_cells[i].input_prompt_number == nbb_cell_id) {\n",
       "                        if (nbb_cells[i].get_text() == nbb_unformatted_code) {\n",
       "                             nbb_cells[i].set_text(nbb_formatted_code);\n",
       "                        }\n",
       "                        break;\n",
       "                    }\n",
       "                }\n",
       "            }, 500);\n",
       "            "
      ],
      "text/plain": [
       "<IPython.core.display.Javascript object>"
      ]
     },
     "metadata": {},
     "output_type": "display_data"
    }
   ],
   "source": [
    "col = intake.open_esm_datastore(\"https://raw.githubusercontent.com/NCAR/intake-esm-datastore/master/catalogs/pangeo-cmip6.json\")"
   ]
  },
  {
   "cell_type": "code",
   "execution_count": 15,
   "metadata": {},
   "outputs": [
    {
     "data": {
      "application/javascript": [
       "\n",
       "            setTimeout(function() {\n",
       "                var nbb_cell_id = 15;\n",
       "                var nbb_unformatted_code = \"variable_id = 'tas'\\ntable_id = 'Amon'\\nsource_id = 'CESM1-1-CAM5-CMIP5'\";\n",
       "                var nbb_formatted_code = \"variable_id = \\\"tas\\\"\\ntable_id = \\\"Amon\\\"\\nsource_id = \\\"CESM1-1-CAM5-CMIP5\\\"\";\n",
       "                var nbb_cells = Jupyter.notebook.get_cells();\n",
       "                for (var i = 0; i < nbb_cells.length; ++i) {\n",
       "                    if (nbb_cells[i].input_prompt_number == nbb_cell_id) {\n",
       "                        if (nbb_cells[i].get_text() == nbb_unformatted_code) {\n",
       "                             nbb_cells[i].set_text(nbb_formatted_code);\n",
       "                        }\n",
       "                        break;\n",
       "                    }\n",
       "                }\n",
       "            }, 500);\n",
       "            "
      ],
      "text/plain": [
       "<IPython.core.display.Javascript object>"
      ]
     },
     "metadata": {},
     "output_type": "display_data"
    }
   ],
   "source": [
    "variable_id = 'tas'\n",
    "table_id = 'Amon'\n",
    "source_id = 'CESM1-1-CAM5-CMIP5'"
   ]
  },
  {
   "cell_type": "markdown",
   "metadata": {},
   "source": [
    "# Get hindcast\n",
    "Boer, G. J., D. M. Smith, C. Cassou, F. Doblas-Reyes, G. Danabasoglu, B. Kirtman, Y. Kushnir, et al. “The Decadal Climate Prediction Project (DCPP) Contribution to CMIP6.” Geosci. Model Dev. 9, no. 10 (October 25, 2016): 3751–77. https://doi.org/10/f89qdf."
   ]
  },
  {
   "cell_type": "code",
   "execution_count": 16,
   "metadata": {},
   "outputs": [
    {
     "data": {
      "application/javascript": [
       "\n",
       "            setTimeout(function() {\n",
       "                var nbb_cell_id = 16;\n",
       "                var nbb_unformatted_code = \"cat_cmip = col.search(experiment_id=['dcppA-hindcast'],\\n                 table_id=table_id,       \\n                 variable_id=variable_id,\\n                 source_id=source_id,\\n                     )\\ncat_cmip.df['dcpp_init_year'] = cat_cmip.df.dcpp_init_year.astype(int)\\n#cat_cmip\";\n",
       "                var nbb_formatted_code = \"cat_cmip = col.search(\\n    experiment_id=[\\\"dcppA-hindcast\\\"],\\n    table_id=table_id,\\n    variable_id=variable_id,\\n    source_id=source_id,\\n)\\ncat_cmip.df[\\\"dcpp_init_year\\\"] = cat_cmip.df.dcpp_init_year.astype(int)\\n# cat_cmip\";\n",
       "                var nbb_cells = Jupyter.notebook.get_cells();\n",
       "                for (var i = 0; i < nbb_cells.length; ++i) {\n",
       "                    if (nbb_cells[i].input_prompt_number == nbb_cell_id) {\n",
       "                        if (nbb_cells[i].get_text() == nbb_unformatted_code) {\n",
       "                             nbb_cells[i].set_text(nbb_formatted_code);\n",
       "                        }\n",
       "                        break;\n",
       "                    }\n",
       "                }\n",
       "            }, 500);\n",
       "            "
      ],
      "text/plain": [
       "<IPython.core.display.Javascript object>"
      ]
     },
     "metadata": {},
     "output_type": "display_data"
    }
   ],
   "source": [
    "cat_cmip = col.search(experiment_id=['dcppA-hindcast'],\n",
    "                 table_id=table_id,       \n",
    "                 variable_id=variable_id,\n",
    "                 source_id=source_id,\n",
    "                     )\n",
    "cat_cmip.df['dcpp_init_year'] = cat_cmip.df.dcpp_init_year.astype(int)\n",
    "#cat_cmip"
   ]
  },
  {
   "cell_type": "code",
   "execution_count": 17,
   "metadata": {},
   "outputs": [
    {
     "data": {
      "application/javascript": [
       "\n",
       "            setTimeout(function() {\n",
       "                var nbb_cell_id = 17;\n",
       "                var nbb_unformatted_code = \"members = sorted(list(cat_cmip.df.member_id.unique()))[:5]\\ninits = list(np.arange(1970,2010))\";\n",
       "                var nbb_formatted_code = \"members = sorted(list(cat_cmip.df.member_id.unique()))[:5]\\ninits = list(np.arange(1970, 2010))\";\n",
       "                var nbb_cells = Jupyter.notebook.get_cells();\n",
       "                for (var i = 0; i < nbb_cells.length; ++i) {\n",
       "                    if (nbb_cells[i].input_prompt_number == nbb_cell_id) {\n",
       "                        if (nbb_cells[i].get_text() == nbb_unformatted_code) {\n",
       "                             nbb_cells[i].set_text(nbb_formatted_code);\n",
       "                        }\n",
       "                        break;\n",
       "                    }\n",
       "                }\n",
       "            }, 500);\n",
       "            "
      ],
      "text/plain": [
       "<IPython.core.display.Javascript object>"
      ]
     },
     "metadata": {},
     "output_type": "display_data"
    }
   ],
   "source": [
    "members = sorted(list(cat_cmip.df.member_id.unique()))[:5]\n",
    "inits = list(np.arange(1970,2010))"
   ]
  },
  {
   "cell_type": "code",
   "execution_count": 18,
   "metadata": {},
   "outputs": [
    {
     "data": {
      "application/javascript": [
       "\n",
       "            setTimeout(function() {\n",
       "                var nbb_cell_id = 18;\n",
       "                var nbb_unformatted_code = \"cat_cmip = col.search(experiment_id=['dcppA-hindcast'],\\n                 table_id=table_id,       \\n                 variable_id=variable_id,\\n                 source_id=source_id,\\n                 member_id = members,\\n                 dcpp_init_year=inits\\n                     )\\ncat_cmip.df['dcpp_init_year'] = cat_cmip.df.dcpp_init_year.astype(int)\";\n",
       "                var nbb_formatted_code = \"cat_cmip = col.search(\\n    experiment_id=[\\\"dcppA-hindcast\\\"],\\n    table_id=table_id,\\n    variable_id=variable_id,\\n    source_id=source_id,\\n    member_id=members,\\n    dcpp_init_year=inits,\\n)\\ncat_cmip.df[\\\"dcpp_init_year\\\"] = cat_cmip.df.dcpp_init_year.astype(int)\";\n",
       "                var nbb_cells = Jupyter.notebook.get_cells();\n",
       "                for (var i = 0; i < nbb_cells.length; ++i) {\n",
       "                    if (nbb_cells[i].input_prompt_number == nbb_cell_id) {\n",
       "                        if (nbb_cells[i].get_text() == nbb_unformatted_code) {\n",
       "                             nbb_cells[i].set_text(nbb_formatted_code);\n",
       "                        }\n",
       "                        break;\n",
       "                    }\n",
       "                }\n",
       "            }, 500);\n",
       "            "
      ],
      "text/plain": [
       "<IPython.core.display.Javascript object>"
      ]
     },
     "metadata": {},
     "output_type": "display_data"
    }
   ],
   "source": [
    "cat_cmip = col.search(experiment_id=['dcppA-hindcast'],\n",
    "                 table_id=table_id,       \n",
    "                 variable_id=variable_id,\n",
    "                 source_id=source_id,\n",
    "                 member_id = members,\n",
    "                 dcpp_init_year=inits\n",
    "                     )\n",
    "cat_cmip.df['dcpp_init_year'] = cat_cmip.df.dcpp_init_year.astype(int)"
   ]
  },
  {
   "cell_type": "code",
   "execution_count": 19,
   "metadata": {},
   "outputs": [
    {
     "data": {
      "application/javascript": [
       "\n",
       "            setTimeout(function() {\n",
       "                var nbb_cell_id = 19;\n",
       "                var nbb_unformatted_code = \"def pre(ds,var=variable_id):\\n    ds['time']=np.arange(1,1+ds.time.size)\\n    return ds\";\n",
       "                var nbb_formatted_code = \"def pre(ds, var=variable_id):\\n    ds[\\\"time\\\"] = np.arange(1, 1 + ds.time.size)\\n    return ds\";\n",
       "                var nbb_cells = Jupyter.notebook.get_cells();\n",
       "                for (var i = 0; i < nbb_cells.length; ++i) {\n",
       "                    if (nbb_cells[i].input_prompt_number == nbb_cell_id) {\n",
       "                        if (nbb_cells[i].get_text() == nbb_unformatted_code) {\n",
       "                             nbb_cells[i].set_text(nbb_formatted_code);\n",
       "                        }\n",
       "                        break;\n",
       "                    }\n",
       "                }\n",
       "            }, 500);\n",
       "            "
      ],
      "text/plain": [
       "<IPython.core.display.Javascript object>"
      ]
     },
     "metadata": {},
     "output_type": "display_data"
    }
   ],
   "source": [
    "def pre(ds,var=variable_id):\n",
    "    ds['time']=np.arange(1,1+ds.time.size)\n",
    "    return ds"
   ]
  },
  {
   "cell_type": "code",
   "execution_count": 20,
   "metadata": {},
   "outputs": [
    {
     "name": "stdout",
     "output_type": "stream",
     "text": [
      "\n",
      "--> The keys in the returned dictionary of datasets are constructed as follows:\n",
      "\t'activity_id.institution_id.source_id.experiment_id.table_id.grid_label'\n"
     ]
    },
    {
     "data": {
      "text/html": [
       "\n",
       "    <div>\n",
       "        <style>\n",
       "            /* Turns off some styling */\n",
       "            progress {\n",
       "                /* gets rid of default border in Firefox and Opera. */\n",
       "                border: none;\n",
       "                /* Needs to be in here for Safari polyfill so background images work as expected. */\n",
       "                background-size: auto;\n",
       "            }\n",
       "            .progress-bar-interrupted, .progress-bar-interrupted::-webkit-progress-bar {\n",
       "                background: #F44336;\n",
       "            }\n",
       "        </style>\n",
       "      <progress value='1' class='' max='1' style='width:300px; height:20px; vertical-align: middle;'></progress>\n",
       "      100.00% [1/1 00:00<00:00]\n",
       "    </div>\n",
       "    "
      ],
      "text/plain": [
       "<IPython.core.display.HTML object>"
      ]
     },
     "metadata": {},
     "output_type": "display_data"
    },
    {
     "name": "stdout",
     "output_type": "stream",
     "text": [
      "CPU times: user 2.08 s, sys: 71.6 ms, total: 2.15 s\n",
      "Wall time: 11.6 s\n"
     ]
    },
    {
     "data": {
      "text/plain": [
       "['DCPP.NCAR.CESM1-1-CAM5-CMIP5.dcppA-hindcast.Amon.gn']"
      ]
     },
     "execution_count": 20,
     "metadata": {},
     "output_type": "execute_result"
    },
    {
     "data": {
      "application/javascript": [
       "\n",
       "            setTimeout(function() {\n",
       "                var nbb_cell_id = 20;\n",
       "                var nbb_unformatted_code = \"%%time\\ndset_dict = cat_cmip.to_dataset_dict(zarr_kwargs={'consolidated': True},preprocess=pre,cdf_kwargs={'decode_times':False,\\n                                                 'chunks':{'time':-1}})\\nlist(dset_dict.keys())\";\n",
       "                var nbb_formatted_code = \"%%time\\ndset_dict = cat_cmip.to_dataset_dict(zarr_kwargs={'consolidated': True},preprocess=pre,cdf_kwargs={'decode_times':False,\\n                                                 'chunks':{'time':-1}})\\nlist(dset_dict.keys())\";\n",
       "                var nbb_cells = Jupyter.notebook.get_cells();\n",
       "                for (var i = 0; i < nbb_cells.length; ++i) {\n",
       "                    if (nbb_cells[i].input_prompt_number == nbb_cell_id) {\n",
       "                        if (nbb_cells[i].get_text() == nbb_unformatted_code) {\n",
       "                             nbb_cells[i].set_text(nbb_formatted_code);\n",
       "                        }\n",
       "                        break;\n",
       "                    }\n",
       "                }\n",
       "            }, 500);\n",
       "            "
      ],
      "text/plain": [
       "<IPython.core.display.Javascript object>"
      ]
     },
     "metadata": {},
     "output_type": "display_data"
    }
   ],
   "source": [
    "%%time\n",
    "dset_dict = cat_cmip.to_dataset_dict(zarr_kwargs={'consolidated': True},preprocess=pre,cdf_kwargs={'decode_times':False,\n",
    "                                                 'chunks':{'time':-1}})\n",
    "list(dset_dict.keys())"
   ]
  },
  {
   "cell_type": "code",
   "execution_count": 21,
   "metadata": {},
   "outputs": [
    {
     "data": {
      "application/javascript": [
       "\n",
       "            setTimeout(function() {\n",
       "                var nbb_cell_id = 21;\n",
       "                var nbb_unformatted_code = \"from climpred.preprocessing.shared import rename_to_climpred_dims\";\n",
       "                var nbb_formatted_code = \"from climpred.preprocessing.shared import rename_to_climpred_dims\";\n",
       "                var nbb_cells = Jupyter.notebook.get_cells();\n",
       "                for (var i = 0; i < nbb_cells.length; ++i) {\n",
       "                    if (nbb_cells[i].input_prompt_number == nbb_cell_id) {\n",
       "                        if (nbb_cells[i].get_text() == nbb_unformatted_code) {\n",
       "                             nbb_cells[i].set_text(nbb_formatted_code);\n",
       "                        }\n",
       "                        break;\n",
       "                    }\n",
       "                }\n",
       "            }, 500);\n",
       "            "
      ],
      "text/plain": [
       "<IPython.core.display.Javascript object>"
      ]
     },
     "metadata": {},
     "output_type": "display_data"
    }
   ],
   "source": [
    "from climpred.preprocessing.shared import rename_to_climpred_dims"
   ]
  },
  {
   "cell_type": "code",
   "execution_count": 22,
   "metadata": {},
   "outputs": [
    {
     "data": {
      "text/html": [
       "<table>\n",
       "<tr>\n",
       "<td>\n",
       "<table>\n",
       "  <thead>\n",
       "    <tr><td> </td><th> Array </th><th> Chunk </th></tr>\n",
       "  </thead>\n",
       "  <tbody>\n",
       "    <tr><th> Bytes </th><td> 442.37 MB </td> <td> 221.18 kB </td></tr>\n",
       "    <tr><th> Shape </th><td> (5, 40, 10, 192, 288) </td> <td> (1, 1, 1, 192, 288) </td></tr>\n",
       "    <tr><th> Count </th><td> 13000 Tasks </td><td> 2000 Chunks </td></tr>\n",
       "    <tr><th> Type </th><td> float32 </td><td> numpy.ndarray </td></tr>\n",
       "  </tbody>\n",
       "</table>\n",
       "</td>\n",
       "<td>\n",
       "<svg width=\"408\" height=\"148\" style=\"stroke:rgb(0,0,0);stroke-width:1\" >\n",
       "\n",
       "  <!-- Horizontal lines -->\n",
       "  <line x1=\"0\" y1=\"0\" x2=\"40\" y2=\"0\" style=\"stroke-width:2\" />\n",
       "  <line x1=\"0\" y1=\"5\" x2=\"40\" y2=\"5\" />\n",
       "  <line x1=\"0\" y1=\"11\" x2=\"40\" y2=\"11\" />\n",
       "  <line x1=\"0\" y1=\"16\" x2=\"40\" y2=\"16\" />\n",
       "  <line x1=\"0\" y1=\"22\" x2=\"40\" y2=\"22\" />\n",
       "  <line x1=\"0\" y1=\"28\" x2=\"40\" y2=\"28\" style=\"stroke-width:2\" />\n",
       "\n",
       "  <!-- Vertical lines -->\n",
       "  <line x1=\"0\" y1=\"0\" x2=\"0\" y2=\"28\" style=\"stroke-width:2\" />\n",
       "  <line x1=\"1\" y1=\"0\" x2=\"1\" y2=\"28\" />\n",
       "  <line x1=\"2\" y1=\"0\" x2=\"2\" y2=\"28\" />\n",
       "  <line x1=\"3\" y1=\"0\" x2=\"3\" y2=\"28\" />\n",
       "  <line x1=\"5\" y1=\"0\" x2=\"5\" y2=\"28\" />\n",
       "  <line x1=\"6\" y1=\"0\" x2=\"6\" y2=\"28\" />\n",
       "  <line x1=\"7\" y1=\"0\" x2=\"7\" y2=\"28\" />\n",
       "  <line x1=\"8\" y1=\"0\" x2=\"8\" y2=\"28\" />\n",
       "  <line x1=\"10\" y1=\"0\" x2=\"10\" y2=\"28\" />\n",
       "  <line x1=\"11\" y1=\"0\" x2=\"11\" y2=\"28\" />\n",
       "  <line x1=\"12\" y1=\"0\" x2=\"12\" y2=\"28\" />\n",
       "  <line x1=\"13\" y1=\"0\" x2=\"13\" y2=\"28\" />\n",
       "  <line x1=\"15\" y1=\"0\" x2=\"15\" y2=\"28\" />\n",
       "  <line x1=\"16\" y1=\"0\" x2=\"16\" y2=\"28\" />\n",
       "  <line x1=\"17\" y1=\"0\" x2=\"17\" y2=\"28\" />\n",
       "  <line x1=\"18\" y1=\"0\" x2=\"18\" y2=\"28\" />\n",
       "  <line x1=\"20\" y1=\"0\" x2=\"20\" y2=\"28\" />\n",
       "  <line x1=\"21\" y1=\"0\" x2=\"21\" y2=\"28\" />\n",
       "  <line x1=\"22\" y1=\"0\" x2=\"22\" y2=\"28\" />\n",
       "  <line x1=\"23\" y1=\"0\" x2=\"23\" y2=\"28\" />\n",
       "  <line x1=\"25\" y1=\"0\" x2=\"25\" y2=\"28\" />\n",
       "  <line x1=\"26\" y1=\"0\" x2=\"26\" y2=\"28\" />\n",
       "  <line x1=\"27\" y1=\"0\" x2=\"27\" y2=\"28\" />\n",
       "  <line x1=\"28\" y1=\"0\" x2=\"28\" y2=\"28\" />\n",
       "  <line x1=\"30\" y1=\"0\" x2=\"30\" y2=\"28\" />\n",
       "  <line x1=\"31\" y1=\"0\" x2=\"31\" y2=\"28\" />\n",
       "  <line x1=\"32\" y1=\"0\" x2=\"32\" y2=\"28\" />\n",
       "  <line x1=\"33\" y1=\"0\" x2=\"33\" y2=\"28\" />\n",
       "  <line x1=\"35\" y1=\"0\" x2=\"35\" y2=\"28\" />\n",
       "  <line x1=\"36\" y1=\"0\" x2=\"36\" y2=\"28\" />\n",
       "  <line x1=\"37\" y1=\"0\" x2=\"37\" y2=\"28\" />\n",
       "  <line x1=\"38\" y1=\"0\" x2=\"38\" y2=\"28\" />\n",
       "  <line x1=\"40\" y1=\"0\" x2=\"40\" y2=\"28\" style=\"stroke-width:2\" />\n",
       "\n",
       "  <!-- Colored Rectangle -->\n",
       "  <polygon points=\"0.0,0.0 40.328955679569724,0.0 40.328955679569724,28.24529466628642 0.0,28.24529466628642\" style=\"fill:#8B4903A0;stroke-width:0\"/>\n",
       "\n",
       "  <!-- Text -->\n",
       "  <text x=\"20.164478\" y=\"48.245295\" font-size=\"1.0rem\" font-weight=\"100\" text-anchor=\"middle\" >40</text>\n",
       "  <text x=\"60.328956\" y=\"14.122647\" font-size=\"1.0rem\" font-weight=\"100\" text-anchor=\"middle\" transform=\"rotate(0,60.328956,14.122647)\">5</text>\n",
       "\n",
       "\n",
       "  <!-- Horizontal lines -->\n",
       "  <line x1=\"110\" y1=\"0\" x2=\"128\" y2=\"18\" style=\"stroke-width:2\" />\n",
       "  <line x1=\"110\" y1=\"80\" x2=\"128\" y2=\"98\" style=\"stroke-width:2\" />\n",
       "\n",
       "  <!-- Vertical lines -->\n",
       "  <line x1=\"110\" y1=\"0\" x2=\"110\" y2=\"80\" style=\"stroke-width:2\" />\n",
       "  <line x1=\"111\" y1=\"1\" x2=\"111\" y2=\"81\" />\n",
       "  <line x1=\"113\" y1=\"3\" x2=\"113\" y2=\"83\" />\n",
       "  <line x1=\"115\" y1=\"5\" x2=\"115\" y2=\"85\" />\n",
       "  <line x1=\"117\" y1=\"7\" x2=\"117\" y2=\"87\" />\n",
       "  <line x1=\"119\" y1=\"9\" x2=\"119\" y2=\"89\" />\n",
       "  <line x1=\"121\" y1=\"11\" x2=\"121\" y2=\"91\" />\n",
       "  <line x1=\"123\" y1=\"13\" x2=\"123\" y2=\"93\" />\n",
       "  <line x1=\"125\" y1=\"15\" x2=\"125\" y2=\"95\" />\n",
       "  <line x1=\"127\" y1=\"17\" x2=\"127\" y2=\"97\" />\n",
       "  <line x1=\"128\" y1=\"18\" x2=\"128\" y2=\"98\" style=\"stroke-width:2\" />\n",
       "\n",
       "  <!-- Colored Rectangle -->\n",
       "  <polygon points=\"110.0,0.0 128.98330170562053,18.983301705620537 128.98330170562053,98.98330170562053 110.0,80.0\" style=\"fill:#ECB172A0;stroke-width:0\"/>\n",
       "\n",
       "  <!-- Horizontal lines -->\n",
       "  <line x1=\"110\" y1=\"0\" x2=\"230\" y2=\"0\" style=\"stroke-width:2\" />\n",
       "  <line x1=\"111\" y1=\"1\" x2=\"231\" y2=\"1\" />\n",
       "  <line x1=\"113\" y1=\"3\" x2=\"233\" y2=\"3\" />\n",
       "  <line x1=\"115\" y1=\"5\" x2=\"235\" y2=\"5\" />\n",
       "  <line x1=\"117\" y1=\"7\" x2=\"237\" y2=\"7\" />\n",
       "  <line x1=\"119\" y1=\"9\" x2=\"239\" y2=\"9\" />\n",
       "  <line x1=\"121\" y1=\"11\" x2=\"241\" y2=\"11\" />\n",
       "  <line x1=\"123\" y1=\"13\" x2=\"243\" y2=\"13\" />\n",
       "  <line x1=\"125\" y1=\"15\" x2=\"245\" y2=\"15\" />\n",
       "  <line x1=\"127\" y1=\"17\" x2=\"247\" y2=\"17\" />\n",
       "  <line x1=\"128\" y1=\"18\" x2=\"248\" y2=\"18\" style=\"stroke-width:2\" />\n",
       "\n",
       "  <!-- Vertical lines -->\n",
       "  <line x1=\"110\" y1=\"0\" x2=\"128\" y2=\"18\" style=\"stroke-width:2\" />\n",
       "  <line x1=\"230\" y1=\"0\" x2=\"248\" y2=\"18\" style=\"stroke-width:2\" />\n",
       "\n",
       "  <!-- Colored Rectangle -->\n",
       "  <polygon points=\"110.0,0.0 230.0,0.0 248.98330170562053,18.983301705620537 128.98330170562053,18.983301705620537\" style=\"fill:#ECB172A0;stroke-width:0\"/>\n",
       "\n",
       "  <!-- Horizontal lines -->\n",
       "  <line x1=\"128\" y1=\"18\" x2=\"248\" y2=\"18\" style=\"stroke-width:2\" />\n",
       "  <line x1=\"128\" y1=\"98\" x2=\"248\" y2=\"98\" style=\"stroke-width:2\" />\n",
       "\n",
       "  <!-- Vertical lines -->\n",
       "  <line x1=\"128\" y1=\"18\" x2=\"128\" y2=\"98\" style=\"stroke-width:2\" />\n",
       "  <line x1=\"248\" y1=\"18\" x2=\"248\" y2=\"98\" style=\"stroke-width:2\" />\n",
       "\n",
       "  <!-- Colored Rectangle -->\n",
       "  <polygon points=\"128.98330170562053,18.983301705620537 248.98330170562053,18.983301705620537 248.98330170562053,98.98330170562053 128.98330170562053,98.98330170562053\" style=\"fill:#ECB172A0;stroke-width:0\"/>\n",
       "\n",
       "  <!-- Text -->\n",
       "  <text x=\"188.983302\" y=\"118.983302\" font-size=\"1.0rem\" font-weight=\"100\" text-anchor=\"middle\" >288</text>\n",
       "  <text x=\"268.983302\" y=\"58.983302\" font-size=\"1.0rem\" font-weight=\"100\" text-anchor=\"middle\" transform=\"rotate(-90,268.983302,58.983302)\">192</text>\n",
       "  <text x=\"109.491651\" y=\"109.491651\" font-size=\"1.0rem\" font-weight=\"100\" text-anchor=\"middle\" transform=\"rotate(45,109.491651,109.491651)\">10</text>\n",
       "</svg>\n",
       "</td>\n",
       "</tr>\n",
       "</table>"
      ],
      "text/plain": [
       "dask.array<transpose, shape=(5, 40, 10, 192, 288), dtype=float32, chunksize=(1, 1, 1, 192, 288), chunktype=numpy.ndarray>"
      ]
     },
     "execution_count": 22,
     "metadata": {},
     "output_type": "execute_result"
    },
    {
     "data": {
      "application/javascript": [
       "\n",
       "            setTimeout(function() {\n",
       "                var nbb_cell_id = 22;\n",
       "                var nbb_unformatted_code = \"_, hind = dset_dict.popitem()\\nhind = rename_to_climpred_dims(hind)#.rename({'member_id':'member','dcpp_init_year':'init','time':'lead'})\\nhind = hind[variable_id].squeeze()\\n# throw away first two leads and create annual means\\nhind=hind.isel(lead=slice(2,None))\\nhind['lead']=xr.cftime_range(start='2000',freq='MS',periods=hind.lead.size)\\nhind_ym = hind.groupby('lead.year').mean().rename({'year':'lead'})\\nhind_ym['lead']=np.arange(1,1+hind_ym.lead.size)\\nhind_ym.data\";\n",
       "                var nbb_formatted_code = \"_, hind = dset_dict.popitem()\\nhind = rename_to_climpred_dims(\\n    hind\\n)  # .rename({'member_id':'member','dcpp_init_year':'init','time':'lead'})\\nhind = hind[variable_id].squeeze()\\n# throw away first two leads and create annual means\\nhind = hind.isel(lead=slice(2, None))\\nhind[\\\"lead\\\"] = xr.cftime_range(start=\\\"2000\\\", freq=\\\"MS\\\", periods=hind.lead.size)\\nhind_ym = hind.groupby(\\\"lead.year\\\").mean().rename({\\\"year\\\": \\\"lead\\\"})\\nhind_ym[\\\"lead\\\"] = np.arange(1, 1 + hind_ym.lead.size)\\nhind_ym.data\";\n",
       "                var nbb_cells = Jupyter.notebook.get_cells();\n",
       "                for (var i = 0; i < nbb_cells.length; ++i) {\n",
       "                    if (nbb_cells[i].input_prompt_number == nbb_cell_id) {\n",
       "                        if (nbb_cells[i].get_text() == nbb_unformatted_code) {\n",
       "                             nbb_cells[i].set_text(nbb_formatted_code);\n",
       "                        }\n",
       "                        break;\n",
       "                    }\n",
       "                }\n",
       "            }, 500);\n",
       "            "
      ],
      "text/plain": [
       "<IPython.core.display.Javascript object>"
      ]
     },
     "metadata": {},
     "output_type": "display_data"
    }
   ],
   "source": [
    "_, hind = dset_dict.popitem()\n",
    "hind = rename_to_climpred_dims(hind)#.rename({'member_id':'member','dcpp_init_year':'init','time':'lead'})\n",
    "hind = hind[variable_id].squeeze()\n",
    "# throw away first two leads and create annual means\n",
    "hind=hind.isel(lead=slice(2,None))\n",
    "hind['lead']=xr.cftime_range(start='2000',freq='MS',periods=hind.lead.size)\n",
    "hind_ym = hind.groupby('lead.year').mean().rename({'year':'lead'})\n",
    "hind_ym['lead']=np.arange(1,1+hind_ym.lead.size)\n",
    "hind_ym.data"
   ]
  },
  {
   "cell_type": "markdown",
   "metadata": {},
   "source": [
    "## Get historical"
   ]
  },
  {
   "cell_type": "code",
   "execution_count": 23,
   "metadata": {},
   "outputs": [
    {
     "data": {
      "application/javascript": [
       "\n",
       "            setTimeout(function() {\n",
       "                var nbb_cell_id = 23;\n",
       "                var nbb_unformatted_code = \"cat_cmip_hist = col.search(experiment_id=['historical','ssp45'],\\n                 table_id=table_id,       \\n                 variable_id=variable_id,\\n                 source_id='CESM2', # not exactly CESM-LE\\n                 )\";\n",
       "                var nbb_formatted_code = \"cat_cmip_hist = col.search(\\n    experiment_id=[\\\"historical\\\", \\\"ssp45\\\"],\\n    table_id=table_id,\\n    variable_id=variable_id,\\n    source_id=\\\"CESM2\\\",  # not exactly CESM-LE\\n)\";\n",
       "                var nbb_cells = Jupyter.notebook.get_cells();\n",
       "                for (var i = 0; i < nbb_cells.length; ++i) {\n",
       "                    if (nbb_cells[i].input_prompt_number == nbb_cell_id) {\n",
       "                        if (nbb_cells[i].get_text() == nbb_unformatted_code) {\n",
       "                             nbb_cells[i].set_text(nbb_formatted_code);\n",
       "                        }\n",
       "                        break;\n",
       "                    }\n",
       "                }\n",
       "            }, 500);\n",
       "            "
      ],
      "text/plain": [
       "<IPython.core.display.Javascript object>"
      ]
     },
     "metadata": {},
     "output_type": "display_data"
    }
   ],
   "source": [
    "cat_cmip_hist = col.search(experiment_id=['historical','ssp45'],\n",
    "                 table_id=table_id,       \n",
    "                 variable_id=variable_id,\n",
    "                 source_id='CESM2', # not exactly CESM-LE\n",
    "                 )"
   ]
  },
  {
   "cell_type": "code",
   "execution_count": 24,
   "metadata": {},
   "outputs": [
    {
     "name": "stdout",
     "output_type": "stream",
     "text": [
      "\n",
      "--> The keys in the returned dictionary of datasets are constructed as follows:\n",
      "\t'activity_id.institution_id.source_id.experiment_id.table_id.grid_label'\n"
     ]
    },
    {
     "data": {
      "text/html": [
       "\n",
       "    <div>\n",
       "        <style>\n",
       "            /* Turns off some styling */\n",
       "            progress {\n",
       "                /* gets rid of default border in Firefox and Opera. */\n",
       "                border: none;\n",
       "                /* Needs to be in here for Safari polyfill so background images work as expected. */\n",
       "                background-size: auto;\n",
       "            }\n",
       "            .progress-bar-interrupted, .progress-bar-interrupted::-webkit-progress-bar {\n",
       "                background: #F44336;\n",
       "            }\n",
       "        </style>\n",
       "      <progress value='1' class='' max='1' style='width:300px; height:20px; vertical-align: middle;'></progress>\n",
       "      100.00% [1/1 00:00<00:00]\n",
       "    </div>\n",
       "    "
      ],
      "text/plain": [
       "<IPython.core.display.HTML object>"
      ]
     },
     "metadata": {},
     "output_type": "display_data"
    },
    {
     "data": {
      "text/plain": [
       "dict_keys(['CMIP.NCAR.CESM2.historical.Amon.gn'])"
      ]
     },
     "execution_count": 24,
     "metadata": {},
     "output_type": "execute_result"
    },
    {
     "data": {
      "application/javascript": [
       "\n",
       "            setTimeout(function() {\n",
       "                var nbb_cell_id = 24;\n",
       "                var nbb_unformatted_code = \"dset_dict = cat_cmip_hist.to_dataset_dict(zarr_kwargs={'consolidated': True})\\ndset_dict.keys()\";\n",
       "                var nbb_formatted_code = \"dset_dict = cat_cmip_hist.to_dataset_dict(zarr_kwargs={\\\"consolidated\\\": True})\\ndset_dict.keys()\";\n",
       "                var nbb_cells = Jupyter.notebook.get_cells();\n",
       "                for (var i = 0; i < nbb_cells.length; ++i) {\n",
       "                    if (nbb_cells[i].input_prompt_number == nbb_cell_id) {\n",
       "                        if (nbb_cells[i].get_text() == nbb_unformatted_code) {\n",
       "                             nbb_cells[i].set_text(nbb_formatted_code);\n",
       "                        }\n",
       "                        break;\n",
       "                    }\n",
       "                }\n",
       "            }, 500);\n",
       "            "
      ],
      "text/plain": [
       "<IPython.core.display.Javascript object>"
      ]
     },
     "metadata": {},
     "output_type": "display_data"
    }
   ],
   "source": [
    "dset_dict = cat_cmip_hist.to_dataset_dict(zarr_kwargs={'consolidated': True})\n",
    "dset_dict.keys()"
   ]
  },
  {
   "cell_type": "code",
   "execution_count": 25,
   "metadata": {},
   "outputs": [
    {
     "data": {
      "text/html": [
       "<table>\n",
       "<tr>\n",
       "<td>\n",
       "<table>\n",
       "  <thead>\n",
       "    <tr><td> </td><th> Array </th><th> Chunk </th></tr>\n",
       "  </thead>\n",
       "  <tbody>\n",
       "    <tr><th> Bytes </th><td> 133.82 MB </td> <td> 221.18 kB </td></tr>\n",
       "    <tr><th> Shape </th><td> (11, 55, 192, 288) </td> <td> (1, 1, 192, 288) </td></tr>\n",
       "    <tr><th> Count </th><td> 3190 Tasks </td><td> 605 Chunks </td></tr>\n",
       "    <tr><th> Type </th><td> float32 </td><td> numpy.ndarray </td></tr>\n",
       "  </tbody>\n",
       "</table>\n",
       "</td>\n",
       "<td>\n",
       "<svg width=\"398\" height=\"154\" style=\"stroke:rgb(0,0,0);stroke-width:1\" >\n",
       "\n",
       "  <!-- Horizontal lines -->\n",
       "  <line x1=\"0\" y1=\"0\" x2=\"32\" y2=\"0\" style=\"stroke-width:2\" />\n",
       "  <line x1=\"0\" y1=\"25\" x2=\"32\" y2=\"25\" style=\"stroke-width:2\" />\n",
       "\n",
       "  <!-- Vertical lines -->\n",
       "  <line x1=\"0\" y1=\"0\" x2=\"0\" y2=\"25\" style=\"stroke-width:2\" />\n",
       "  <line x1=\"2\" y1=\"0\" x2=\"2\" y2=\"25\" />\n",
       "  <line x1=\"5\" y1=\"0\" x2=\"5\" y2=\"25\" />\n",
       "  <line x1=\"8\" y1=\"0\" x2=\"8\" y2=\"25\" />\n",
       "  <line x1=\"11\" y1=\"0\" x2=\"11\" y2=\"25\" />\n",
       "  <line x1=\"14\" y1=\"0\" x2=\"14\" y2=\"25\" />\n",
       "  <line x1=\"17\" y1=\"0\" x2=\"17\" y2=\"25\" />\n",
       "  <line x1=\"20\" y1=\"0\" x2=\"20\" y2=\"25\" />\n",
       "  <line x1=\"23\" y1=\"0\" x2=\"23\" y2=\"25\" />\n",
       "  <line x1=\"26\" y1=\"0\" x2=\"26\" y2=\"25\" />\n",
       "  <line x1=\"29\" y1=\"0\" x2=\"29\" y2=\"25\" />\n",
       "  <line x1=\"32\" y1=\"0\" x2=\"32\" y2=\"25\" style=\"stroke-width:2\" />\n",
       "\n",
       "  <!-- Colored Rectangle -->\n",
       "  <polygon points=\"0.0,0.0 32.85168084256844,0.0 32.85168084256844,25.412616514582485 0.0,25.412616514582485\" style=\"fill:#ECB172A0;stroke-width:0\"/>\n",
       "\n",
       "  <!-- Text -->\n",
       "  <text x=\"16.425840\" y=\"45.412617\" font-size=\"1.0rem\" font-weight=\"100\" text-anchor=\"middle\" >11</text>\n",
       "  <text x=\"52.851681\" y=\"12.706308\" font-size=\"1.0rem\" font-weight=\"100\" text-anchor=\"middle\" transform=\"rotate(0,52.851681,12.706308)\">1</text>\n",
       "\n",
       "\n",
       "  <!-- Horizontal lines -->\n",
       "  <line x1=\"102\" y1=\"0\" x2=\"126\" y2=\"24\" style=\"stroke-width:2\" />\n",
       "  <line x1=\"102\" y1=\"80\" x2=\"126\" y2=\"104\" style=\"stroke-width:2\" />\n",
       "\n",
       "  <!-- Vertical lines -->\n",
       "  <line x1=\"102\" y1=\"0\" x2=\"102\" y2=\"80\" style=\"stroke-width:2\" />\n",
       "  <line x1=\"102\" y1=\"0\" x2=\"102\" y2=\"80\" />\n",
       "  <line x1=\"103\" y1=\"1\" x2=\"103\" y2=\"81\" />\n",
       "  <line x1=\"104\" y1=\"2\" x2=\"104\" y2=\"82\" />\n",
       "  <line x1=\"104\" y1=\"2\" x2=\"104\" y2=\"82\" />\n",
       "  <line x1=\"105\" y1=\"3\" x2=\"105\" y2=\"83\" />\n",
       "  <line x1=\"106\" y1=\"4\" x2=\"106\" y2=\"84\" />\n",
       "  <line x1=\"107\" y1=\"5\" x2=\"107\" y2=\"85\" />\n",
       "  <line x1=\"107\" y1=\"5\" x2=\"107\" y2=\"85\" />\n",
       "  <line x1=\"108\" y1=\"6\" x2=\"108\" y2=\"86\" />\n",
       "  <line x1=\"109\" y1=\"7\" x2=\"109\" y2=\"87\" />\n",
       "  <line x1=\"110\" y1=\"8\" x2=\"110\" y2=\"88\" />\n",
       "  <line x1=\"110\" y1=\"8\" x2=\"110\" y2=\"88\" />\n",
       "  <line x1=\"111\" y1=\"9\" x2=\"111\" y2=\"89\" />\n",
       "  <line x1=\"112\" y1=\"10\" x2=\"112\" y2=\"90\" />\n",
       "  <line x1=\"113\" y1=\"11\" x2=\"113\" y2=\"91\" />\n",
       "  <line x1=\"114\" y1=\"12\" x2=\"114\" y2=\"92\" />\n",
       "  <line x1=\"114\" y1=\"12\" x2=\"114\" y2=\"92\" />\n",
       "  <line x1=\"115\" y1=\"13\" x2=\"115\" y2=\"93\" />\n",
       "  <line x1=\"116\" y1=\"14\" x2=\"116\" y2=\"94\" />\n",
       "  <line x1=\"117\" y1=\"15\" x2=\"117\" y2=\"95\" />\n",
       "  <line x1=\"118\" y1=\"16\" x2=\"118\" y2=\"96\" />\n",
       "  <line x1=\"118\" y1=\"16\" x2=\"118\" y2=\"96\" />\n",
       "  <line x1=\"119\" y1=\"17\" x2=\"119\" y2=\"97\" />\n",
       "  <line x1=\"120\" y1=\"18\" x2=\"120\" y2=\"98\" />\n",
       "  <line x1=\"120\" y1=\"18\" x2=\"120\" y2=\"98\" />\n",
       "  <line x1=\"121\" y1=\"19\" x2=\"121\" y2=\"99\" />\n",
       "  <line x1=\"122\" y1=\"20\" x2=\"122\" y2=\"100\" />\n",
       "  <line x1=\"123\" y1=\"21\" x2=\"123\" y2=\"101\" />\n",
       "  <line x1=\"123\" y1=\"21\" x2=\"123\" y2=\"101\" />\n",
       "  <line x1=\"124\" y1=\"22\" x2=\"124\" y2=\"102\" />\n",
       "  <line x1=\"125\" y1=\"23\" x2=\"125\" y2=\"103\" />\n",
       "  <line x1=\"126\" y1=\"24\" x2=\"126\" y2=\"104\" style=\"stroke-width:2\" />\n",
       "\n",
       "  <!-- Colored Rectangle -->\n",
       "  <polygon points=\"102.0,0.0 126.59552199505373,24.595521995053726 126.59552199505373,104.59552199505373 102.0,80.0\" style=\"fill:#8B4903A0;stroke-width:0\"/>\n",
       "\n",
       "  <!-- Horizontal lines -->\n",
       "  <line x1=\"102\" y1=\"0\" x2=\"222\" y2=\"0\" style=\"stroke-width:2\" />\n",
       "  <line x1=\"102\" y1=\"0\" x2=\"222\" y2=\"0\" />\n",
       "  <line x1=\"103\" y1=\"1\" x2=\"223\" y2=\"1\" />\n",
       "  <line x1=\"104\" y1=\"2\" x2=\"224\" y2=\"2\" />\n",
       "  <line x1=\"104\" y1=\"2\" x2=\"224\" y2=\"2\" />\n",
       "  <line x1=\"105\" y1=\"3\" x2=\"225\" y2=\"3\" />\n",
       "  <line x1=\"106\" y1=\"4\" x2=\"226\" y2=\"4\" />\n",
       "  <line x1=\"107\" y1=\"5\" x2=\"227\" y2=\"5\" />\n",
       "  <line x1=\"107\" y1=\"5\" x2=\"227\" y2=\"5\" />\n",
       "  <line x1=\"108\" y1=\"6\" x2=\"228\" y2=\"6\" />\n",
       "  <line x1=\"109\" y1=\"7\" x2=\"229\" y2=\"7\" />\n",
       "  <line x1=\"110\" y1=\"8\" x2=\"230\" y2=\"8\" />\n",
       "  <line x1=\"110\" y1=\"8\" x2=\"230\" y2=\"8\" />\n",
       "  <line x1=\"111\" y1=\"9\" x2=\"231\" y2=\"9\" />\n",
       "  <line x1=\"112\" y1=\"10\" x2=\"232\" y2=\"10\" />\n",
       "  <line x1=\"113\" y1=\"11\" x2=\"233\" y2=\"11\" />\n",
       "  <line x1=\"114\" y1=\"12\" x2=\"234\" y2=\"12\" />\n",
       "  <line x1=\"114\" y1=\"12\" x2=\"234\" y2=\"12\" />\n",
       "  <line x1=\"115\" y1=\"13\" x2=\"235\" y2=\"13\" />\n",
       "  <line x1=\"116\" y1=\"14\" x2=\"236\" y2=\"14\" />\n",
       "  <line x1=\"117\" y1=\"15\" x2=\"237\" y2=\"15\" />\n",
       "  <line x1=\"118\" y1=\"16\" x2=\"238\" y2=\"16\" />\n",
       "  <line x1=\"118\" y1=\"16\" x2=\"238\" y2=\"16\" />\n",
       "  <line x1=\"119\" y1=\"17\" x2=\"239\" y2=\"17\" />\n",
       "  <line x1=\"120\" y1=\"18\" x2=\"240\" y2=\"18\" />\n",
       "  <line x1=\"120\" y1=\"18\" x2=\"240\" y2=\"18\" />\n",
       "  <line x1=\"121\" y1=\"19\" x2=\"241\" y2=\"19\" />\n",
       "  <line x1=\"122\" y1=\"20\" x2=\"242\" y2=\"20\" />\n",
       "  <line x1=\"123\" y1=\"21\" x2=\"243\" y2=\"21\" />\n",
       "  <line x1=\"123\" y1=\"21\" x2=\"243\" y2=\"21\" />\n",
       "  <line x1=\"124\" y1=\"22\" x2=\"244\" y2=\"22\" />\n",
       "  <line x1=\"125\" y1=\"23\" x2=\"245\" y2=\"23\" />\n",
       "  <line x1=\"126\" y1=\"24\" x2=\"246\" y2=\"24\" style=\"stroke-width:2\" />\n",
       "\n",
       "  <!-- Vertical lines -->\n",
       "  <line x1=\"102\" y1=\"0\" x2=\"126\" y2=\"24\" style=\"stroke-width:2\" />\n",
       "  <line x1=\"222\" y1=\"0\" x2=\"246\" y2=\"24\" style=\"stroke-width:2\" />\n",
       "\n",
       "  <!-- Colored Rectangle -->\n",
       "  <polygon points=\"102.0,0.0 222.0,0.0 246.59552199505373,24.595521995053726 126.59552199505373,24.595521995053726\" style=\"fill:#8B4903A0;stroke-width:0\"/>\n",
       "\n",
       "  <!-- Horizontal lines -->\n",
       "  <line x1=\"126\" y1=\"24\" x2=\"246\" y2=\"24\" style=\"stroke-width:2\" />\n",
       "  <line x1=\"126\" y1=\"104\" x2=\"246\" y2=\"104\" style=\"stroke-width:2\" />\n",
       "\n",
       "  <!-- Vertical lines -->\n",
       "  <line x1=\"126\" y1=\"24\" x2=\"126\" y2=\"104\" style=\"stroke-width:2\" />\n",
       "  <line x1=\"246\" y1=\"24\" x2=\"246\" y2=\"104\" style=\"stroke-width:2\" />\n",
       "\n",
       "  <!-- Colored Rectangle -->\n",
       "  <polygon points=\"126.59552199505373,24.595521995053726 246.59552199505373,24.595521995053726 246.59552199505373,104.59552199505373 126.59552199505373,104.59552199505373\" style=\"fill:#ECB172A0;stroke-width:0\"/>\n",
       "\n",
       "  <!-- Text -->\n",
       "  <text x=\"186.595522\" y=\"124.595522\" font-size=\"1.0rem\" font-weight=\"100\" text-anchor=\"middle\" >288</text>\n",
       "  <text x=\"266.595522\" y=\"64.595522\" font-size=\"1.0rem\" font-weight=\"100\" text-anchor=\"middle\" transform=\"rotate(-90,266.595522,64.595522)\">192</text>\n",
       "  <text x=\"104.297761\" y=\"112.297761\" font-size=\"1.0rem\" font-weight=\"100\" text-anchor=\"middle\" transform=\"rotate(45,104.297761,112.297761)\">55</text>\n",
       "</svg>\n",
       "</td>\n",
       "</tr>\n",
       "</table>"
      ],
      "text/plain": [
       "dask.array<transpose, shape=(11, 55, 192, 288), dtype=float32, chunksize=(1, 1, 192, 288), chunktype=numpy.ndarray>"
      ]
     },
     "execution_count": 25,
     "metadata": {},
     "output_type": "execute_result"
    },
    {
     "data": {
      "application/javascript": [
       "\n",
       "            setTimeout(function() {\n",
       "                var nbb_cell_id = 25;\n",
       "                var nbb_unformatted_code = \"_, hist = dset_dict.popitem()\\nhist = hist[variable_id].squeeze()\\nhist = hist.rename({'member_id':'member'})\\nhist = hist.sel(time=slice('1960','2015'))\\nhist_ym = hist.groupby('time.year').mean().rename({'year':'time'})\\nhist_ym.data\";\n",
       "                var nbb_formatted_code = \"_, hist = dset_dict.popitem()\\nhist = hist[variable_id].squeeze()\\nhist = hist.rename({\\\"member_id\\\": \\\"member\\\"})\\nhist = hist.sel(time=slice(\\\"1960\\\", \\\"2015\\\"))\\nhist_ym = hist.groupby(\\\"time.year\\\").mean().rename({\\\"year\\\": \\\"time\\\"})\\nhist_ym.data\";\n",
       "                var nbb_cells = Jupyter.notebook.get_cells();\n",
       "                for (var i = 0; i < nbb_cells.length; ++i) {\n",
       "                    if (nbb_cells[i].input_prompt_number == nbb_cell_id) {\n",
       "                        if (nbb_cells[i].get_text() == nbb_unformatted_code) {\n",
       "                             nbb_cells[i].set_text(nbb_formatted_code);\n",
       "                        }\n",
       "                        break;\n",
       "                    }\n",
       "                }\n",
       "            }, 500);\n",
       "            "
      ],
      "text/plain": [
       "<IPython.core.display.Javascript object>"
      ]
     },
     "metadata": {},
     "output_type": "display_data"
    }
   ],
   "source": [
    "_, hist = dset_dict.popitem()\n",
    "hist = hist[variable_id].squeeze()\n",
    "hist = hist.rename({'member_id':'member'})\n",
    "hist = hist.sel(time=slice('1960','2015'))\n",
    "hist_ym = hist.groupby('time.year').mean().rename({'year':'time'})\n",
    "hist_ym.data"
   ]
  },
  {
   "cell_type": "markdown",
   "metadata": {},
   "source": [
    "## Get Verification"
   ]
  },
  {
   "cell_type": "code",
   "execution_count": 26,
   "metadata": {},
   "outputs": [
    {
     "data": {
      "application/javascript": [
       "\n",
       "            setTimeout(function() {\n",
       "                var nbb_cell_id = 26;\n",
       "                var nbb_unformatted_code = \"compare_against='observations'\";\n",
       "                var nbb_formatted_code = \"compare_against = \\\"observations\\\"\";\n",
       "                var nbb_cells = Jupyter.notebook.get_cells();\n",
       "                for (var i = 0; i < nbb_cells.length; ++i) {\n",
       "                    if (nbb_cells[i].input_prompt_number == nbb_cell_id) {\n",
       "                        if (nbb_cells[i].get_text() == nbb_unformatted_code) {\n",
       "                             nbb_cells[i].set_text(nbb_formatted_code);\n",
       "                        }\n",
       "                        break;\n",
       "                    }\n",
       "                }\n",
       "            }, 500);\n",
       "            "
      ],
      "text/plain": [
       "<IPython.core.display.Javascript object>"
      ]
     },
     "metadata": {},
     "output_type": "display_data"
    }
   ],
   "source": [
    "compare_against='observations'"
   ]
  },
  {
   "cell_type": "markdown",
   "metadata": {},
   "source": [
    "### Get assimilation"
   ]
  },
  {
   "cell_type": "code",
   "execution_count": 27,
   "metadata": {},
   "outputs": [
    {
     "data": {
      "application/javascript": [
       "\n",
       "            setTimeout(function() {\n",
       "                var nbb_cell_id = 27;\n",
       "                var nbb_unformatted_code = \"if compare_against=='assimilation':\\n\\n    cat_cmip_hist = col.search(experiment_id=['dcppA-assim'],\\n                     table_id=table_id,       \\n                     variable_id=variable_id,\\n                     source_id=source_id\\n                              )\\n\\n    if len(cat_cmip_hist.df.source_id.unique()) >= 1:\\n        dset_dict = cat_cmip_hist.to_dataset_dict(zarr_kwargs={'consolidated': True})\\n        print(dset_dict.keys())\\n        _, assim = dset_dict.popitem()\\n        assim = assim[variable_id].squeeze()\\n        assim = assim.rename({'member_id':'member'})\\n        assim = assim.sel(time=slice('1960','2015'))\\n        assim_ym = assim.groupby('time.year').mean().rename({'year':'time'})\\n        display(assim_ym.data)\\n        # for further use\\n        obs_ym = assim_ym\\n    else:\\n        print(f'no assimilation found for {source_id} {table_id} {variable_id}')\";\n",
       "                var nbb_formatted_code = \"if compare_against == \\\"assimilation\\\":\\n\\n    cat_cmip_hist = col.search(\\n        experiment_id=[\\\"dcppA-assim\\\"],\\n        table_id=table_id,\\n        variable_id=variable_id,\\n        source_id=source_id,\\n    )\\n\\n    if len(cat_cmip_hist.df.source_id.unique()) >= 1:\\n        dset_dict = cat_cmip_hist.to_dataset_dict(zarr_kwargs={\\\"consolidated\\\": True})\\n        print(dset_dict.keys())\\n        _, assim = dset_dict.popitem()\\n        assim = assim[variable_id].squeeze()\\n        assim = assim.rename({\\\"member_id\\\": \\\"member\\\"})\\n        assim = assim.sel(time=slice(\\\"1960\\\", \\\"2015\\\"))\\n        assim_ym = assim.groupby(\\\"time.year\\\").mean().rename({\\\"year\\\": \\\"time\\\"})\\n        display(assim_ym.data)\\n        # for further use\\n        obs_ym = assim_ym\\n    else:\\n        print(f\\\"no assimilation found for {source_id} {table_id} {variable_id}\\\")\";\n",
       "                var nbb_cells = Jupyter.notebook.get_cells();\n",
       "                for (var i = 0; i < nbb_cells.length; ++i) {\n",
       "                    if (nbb_cells[i].input_prompt_number == nbb_cell_id) {\n",
       "                        if (nbb_cells[i].get_text() == nbb_unformatted_code) {\n",
       "                             nbb_cells[i].set_text(nbb_formatted_code);\n",
       "                        }\n",
       "                        break;\n",
       "                    }\n",
       "                }\n",
       "            }, 500);\n",
       "            "
      ],
      "text/plain": [
       "<IPython.core.display.Javascript object>"
      ]
     },
     "metadata": {},
     "output_type": "display_data"
    }
   ],
   "source": [
    "if compare_against=='assimilation':\n",
    "\n",
    "    cat_cmip_hist = col.search(experiment_id=['dcppA-assim'],\n",
    "                     table_id=table_id,       \n",
    "                     variable_id=variable_id,\n",
    "                     source_id=source_id\n",
    "                              )\n",
    "\n",
    "    if len(cat_cmip_hist.df.source_id.unique()) >= 1:\n",
    "        dset_dict = cat_cmip_hist.to_dataset_dict(zarr_kwargs={'consolidated': True})\n",
    "        print(dset_dict.keys())\n",
    "        _, assim = dset_dict.popitem()\n",
    "        assim = assim[variable_id].squeeze()\n",
    "        assim = assim.rename({'member_id':'member'})\n",
    "        assim = assim.sel(time=slice('1960','2015'))\n",
    "        assim_ym = assim.groupby('time.year').mean().rename({'year':'time'})\n",
    "        display(assim_ym.data)\n",
    "        # for further use\n",
    "        obs_ym = assim_ym\n",
    "    else:\n",
    "        print(f'no assimilation found for {source_id} {table_id} {variable_id}')"
   ]
  },
  {
   "cell_type": "markdown",
   "metadata": {},
   "source": [
    "### Get observations"
   ]
  },
  {
   "cell_type": "code",
   "execution_count": 56,
   "metadata": {},
   "outputs": [
    {
     "name": "stdout",
     "output_type": "stream",
     "text": [
      "CPU times: user 1.71 s, sys: 306 ms, total: 2.02 s\n",
      "Wall time: 3min 43s\n"
     ]
    },
    {
     "data": {
      "application/javascript": [
       "\n",
       "            setTimeout(function() {\n",
       "                var nbb_cell_id = 56;\n",
       "                var nbb_unformatted_code = \"%%time\\nif compare_against=='observations':\\n    obs_cat = intake.open_catalog('https://raw.githubusercontent.com/aaronspring/remote_climate_data/master/master.yaml')\\n\\n    if variable_id == 'tas':\\n        # obs = obs_cat.atmosphere.HadCRUT4.to_dask()\\n        # print(f'Load {variable_id} observations from {obs_cat.atmosphere.HadCRUT4.urlpath}')\\n        obs = xr.open_dataset('https://crudata.uea.ac.uk/cru/data/temperature/HadCRUT.4.6.0.0.median.nc#mode=bytes', chunks={'time':12*10}, use_cftime=True)\\n        obs = obs.rename({'latitude':'lat','longitude':'lon','temperature_anomaly':variable_id})[variable_id]\\n        obs=obs.assign_coords(lon=obs.lon+180)\\n    elif variable_id == 'tos':\\n        obs = obs_cat.atmosphere.HadISST.to_dask()\\n        print(f'Load observations from {obs_cat.atmosphere.HadISST.urlpath}')\\n        obs = obs.rename({'latitude':'lat','longitude':'lon','temperature_anomaly':variable_id})[variable_id]\\n\\n    obs = obs.sel(time=slice('1950',None))\\n    obs_ym = obs.groupby('time.year').mean().rename({'year':'time'})\";\n",
       "                var nbb_formatted_code = \"%%time\\nif compare_against=='observations':\\n    obs_cat = intake.open_catalog('https://raw.githubusercontent.com/aaronspring/remote_climate_data/master/master.yaml')\\n\\n    if variable_id == 'tas':\\n        # obs = obs_cat.atmosphere.HadCRUT4.to_dask()\\n        # print(f'Load {variable_id} observations from {obs_cat.atmosphere.HadCRUT4.urlpath}')\\n        obs = xr.open_dataset('https://crudata.uea.ac.uk/cru/data/temperature/HadCRUT.4.6.0.0.median.nc#mode=bytes', chunks={'time':12*10}, use_cftime=True)\\n        obs = obs.rename({'latitude':'lat','longitude':'lon','temperature_anomaly':variable_id})[variable_id]\\n        obs=obs.assign_coords(lon=obs.lon+180)\\n    elif variable_id == 'tos':\\n        obs = obs_cat.atmosphere.HadISST.to_dask()\\n        print(f'Load observations from {obs_cat.atmosphere.HadISST.urlpath}')\\n        obs = obs.rename({'latitude':'lat','longitude':'lon','temperature_anomaly':variable_id})[variable_id]\\n\\n    obs = obs.sel(time=slice('1950',None))\\n    obs_ym = obs.groupby('time.year').mean().rename({'year':'time'})\";\n",
       "                var nbb_cells = Jupyter.notebook.get_cells();\n",
       "                for (var i = 0; i < nbb_cells.length; ++i) {\n",
       "                    if (nbb_cells[i].input_prompt_number == nbb_cell_id) {\n",
       "                        if (nbb_cells[i].get_text() == nbb_unformatted_code) {\n",
       "                             nbb_cells[i].set_text(nbb_formatted_code);\n",
       "                        }\n",
       "                        break;\n",
       "                    }\n",
       "                }\n",
       "            }, 500);\n",
       "            "
      ],
      "text/plain": [
       "<IPython.core.display.Javascript object>"
      ]
     },
     "metadata": {},
     "output_type": "display_data"
    }
   ],
   "source": [
    "%%time\n",
    "if compare_against=='observations':\n",
    "    obs_cat = intake.open_catalog('https://raw.githubusercontent.com/aaronspring/remote_climate_data/master/master.yaml')\n",
    "\n",
    "    if variable_id == 'tas':\n",
    "        # obs = obs_cat.atmosphere.HadCRUT4.to_dask()\n",
    "        # print(f'Load {variable_id} observations from {obs_cat.atmosphere.HadCRUT4.urlpath}')\n",
    "        obs = xr.open_dataset('https://crudata.uea.ac.uk/cru/data/temperature/HadCRUT.4.6.0.0.median.nc#mode=bytes', chunks={'time':12*10}, use_cftime=True)\n",
    "        obs = obs.rename({'latitude':'lat','longitude':'lon','temperature_anomaly':variable_id})[variable_id]\n",
    "        obs=obs.assign_coords(lon=obs.lon+180)\n",
    "    elif variable_id == 'tos':\n",
    "        obs = obs_cat.atmosphere.HadISST.to_dask()\n",
    "        print(f'Load observations from {obs_cat.atmosphere.HadISST.urlpath}')\n",
    "        obs = obs.rename({'latitude':'lat','longitude':'lon','temperature_anomaly':variable_id})[variable_id]\n",
    "\n",
    "    obs = obs.sel(time=slice('1950',None))\n",
    "    obs_ym = obs.groupby('time.year').mean().rename({'year':'time'})"
   ]
  },
  {
   "cell_type": "markdown",
   "metadata": {},
   "source": [
    "# detrend"
   ]
  },
  {
   "cell_type": "code",
   "execution_count": 29,
   "metadata": {},
   "outputs": [
    {
     "data": {
      "application/javascript": [
       "\n",
       "            setTimeout(function() {\n",
       "                var nbb_cell_id = 29;\n",
       "                var nbb_unformatted_code = \"from esmtools.stats import rm_poly\\norder = 2\\ndetrend = False\";\n",
       "                var nbb_formatted_code = \"from esmtools.stats import rm_poly\\n\\norder = 2\\ndetrend = False\";\n",
       "                var nbb_cells = Jupyter.notebook.get_cells();\n",
       "                for (var i = 0; i < nbb_cells.length; ++i) {\n",
       "                    if (nbb_cells[i].input_prompt_number == nbb_cell_id) {\n",
       "                        if (nbb_cells[i].get_text() == nbb_unformatted_code) {\n",
       "                             nbb_cells[i].set_text(nbb_formatted_code);\n",
       "                        }\n",
       "                        break;\n",
       "                    }\n",
       "                }\n",
       "            }, 500);\n",
       "            "
      ],
      "text/plain": [
       "<IPython.core.display.Javascript object>"
      ]
     },
     "metadata": {},
     "output_type": "display_data"
    }
   ],
   "source": [
    "from esmtools.stats import rm_poly\n",
    "order = 2\n",
    "detrend = False"
   ]
  },
  {
   "cell_type": "code",
   "execution_count": 30,
   "metadata": {},
   "outputs": [
    {
     "data": {
      "application/javascript": [
       "\n",
       "            setTimeout(function() {\n",
       "                var nbb_cell_id = 30;\n",
       "                var nbb_unformatted_code = \"if detrend:\\n    hind_ym = rm_pol(hind_ym,'init')\\n    hist_ym = rm_pol(hist_ym,'init')\\n    obs_ym = rm_pol(obs_ym,'init')\";\n",
       "                var nbb_formatted_code = \"if detrend:\\n    hind_ym = rm_pol(hind_ym, \\\"init\\\")\\n    hist_ym = rm_pol(hist_ym, \\\"init\\\")\\n    obs_ym = rm_pol(obs_ym, \\\"init\\\")\";\n",
       "                var nbb_cells = Jupyter.notebook.get_cells();\n",
       "                for (var i = 0; i < nbb_cells.length; ++i) {\n",
       "                    if (nbb_cells[i].input_prompt_number == nbb_cell_id) {\n",
       "                        if (nbb_cells[i].get_text() == nbb_unformatted_code) {\n",
       "                             nbb_cells[i].set_text(nbb_formatted_code);\n",
       "                        }\n",
       "                        break;\n",
       "                    }\n",
       "                }\n",
       "            }, 500);\n",
       "            "
      ],
      "text/plain": [
       "<IPython.core.display.Javascript object>"
      ]
     },
     "metadata": {},
     "output_type": "display_data"
    }
   ],
   "source": [
    "if detrend:\n",
    "    hind_ym = rm_pol(hind_ym,'init')\n",
    "    hist_ym = rm_pol(hist_ym,'init')\n",
    "    obs_ym = rm_pol(obs_ym,'init')"
   ]
  },
  {
   "cell_type": "markdown",
   "metadata": {},
   "source": [
    "# regrid or interpolate onto 5x5 grid"
   ]
  },
  {
   "cell_type": "code",
   "execution_count": 31,
   "metadata": {},
   "outputs": [
    {
     "data": {
      "application/javascript": [
       "\n",
       "            setTimeout(function() {\n",
       "                var nbb_cell_id = 31;\n",
       "                var nbb_unformatted_code = \"import xesmf as xe\\n\\ndeg=5\\ndef regrid(ds, deg=deg):\\n    ds_out = xe.util.grid_global(deg,deg)\\n    regridder = xe.Regridder(ds, ds_out, 'bilinear')\\n    ds_out = regridder(ds)\\n    return ds_out\\n\\nlons = xr.DataArray(\\n            np.arange(0, 360, deg),\\n            dims=(\\\"lon\\\",),\\n            attrs={\\\"units\\\": \\\"degrees east\\\", \\\"long_name\\\": \\\"longitude\\\"},\\n        )\\nlats = xr.DataArray(\\n            np.arange(-90, 90, deg),\\n            dims=(\\\"lat\\\",),\\n            attrs={\\\"units\\\": \\\"degrees north\\\", \\\"long_name\\\": \\\"latitude\\\"},\\n        )\\ntarget_grid = xr.DataArray(\\n            coords={\\\"lon\\\": lons, \\\"lat\\\": lats},\\n            dims=(\\\"lon\\\", \\\"lat\\\"),\\n            name=\\\"tos\\\",\\n            #encoding=None,\\n            attrs={\\\"units\\\": \\\"foo units\\\", \\\"description\\\": \\\"a description\\\"},\\n        )\\n\\nreduce_size='interp'\";\n",
       "                var nbb_formatted_code = \"import xesmf as xe\\n\\ndeg = 5\\n\\n\\ndef regrid(ds, deg=deg):\\n    ds_out = xe.util.grid_global(deg, deg)\\n    regridder = xe.Regridder(ds, ds_out, \\\"bilinear\\\")\\n    ds_out = regridder(ds)\\n    return ds_out\\n\\n\\nlons = xr.DataArray(\\n    np.arange(0, 360, deg),\\n    dims=(\\\"lon\\\",),\\n    attrs={\\\"units\\\": \\\"degrees east\\\", \\\"long_name\\\": \\\"longitude\\\"},\\n)\\nlats = xr.DataArray(\\n    np.arange(-90, 90, deg),\\n    dims=(\\\"lat\\\",),\\n    attrs={\\\"units\\\": \\\"degrees north\\\", \\\"long_name\\\": \\\"latitude\\\"},\\n)\\ntarget_grid = xr.DataArray(\\n    coords={\\\"lon\\\": lons, \\\"lat\\\": lats},\\n    dims=(\\\"lon\\\", \\\"lat\\\"),\\n    name=\\\"tos\\\",\\n    # encoding=None,\\n    attrs={\\\"units\\\": \\\"foo units\\\", \\\"description\\\": \\\"a description\\\"},\\n)\\n\\nreduce_size = \\\"interp\\\"\";\n",
       "                var nbb_cells = Jupyter.notebook.get_cells();\n",
       "                for (var i = 0; i < nbb_cells.length; ++i) {\n",
       "                    if (nbb_cells[i].input_prompt_number == nbb_cell_id) {\n",
       "                        if (nbb_cells[i].get_text() == nbb_unformatted_code) {\n",
       "                             nbb_cells[i].set_text(nbb_formatted_code);\n",
       "                        }\n",
       "                        break;\n",
       "                    }\n",
       "                }\n",
       "            }, 500);\n",
       "            "
      ],
      "text/plain": [
       "<IPython.core.display.Javascript object>"
      ]
     },
     "metadata": {},
     "output_type": "display_data"
    }
   ],
   "source": [
    "import xesmf as xe\n",
    "\n",
    "deg=5\n",
    "def regrid(ds, deg=deg):\n",
    "    ds_out = xe.util.grid_global(deg,deg)\n",
    "    regridder = xe.Regridder(ds, ds_out, 'bilinear')\n",
    "    ds_out = regridder(ds)\n",
    "    return ds_out\n",
    "\n",
    "lons = xr.DataArray(\n",
    "            np.arange(0, 360, deg),\n",
    "            dims=(\"lon\",),\n",
    "            attrs={\"units\": \"degrees east\", \"long_name\": \"longitude\"},\n",
    "        )\n",
    "lats = xr.DataArray(\n",
    "            np.arange(-90, 90, deg),\n",
    "            dims=(\"lat\",),\n",
    "            attrs={\"units\": \"degrees north\", \"long_name\": \"latitude\"},\n",
    "        )\n",
    "target_grid = xr.DataArray(\n",
    "            coords={\"lon\": lons, \"lat\": lats},\n",
    "            dims=(\"lon\", \"lat\"),\n",
    "            name=\"tos\",\n",
    "            #encoding=None,\n",
    "            attrs={\"units\": \"foo units\", \"description\": \"a description\"},\n",
    "        )\n",
    "\n",
    "reduce_size='interp'"
   ]
  },
  {
   "cell_type": "code",
   "execution_count": 32,
   "metadata": {},
   "outputs": [
    {
     "data": {
      "application/javascript": [
       "\n",
       "            setTimeout(function() {\n",
       "                var nbb_cell_id = 32;\n",
       "                var nbb_unformatted_code = \"if reduce_size == 'regrid':\\n    # fails when lazy\\n    hind_ym = regrid(hind_ym.load())\\nelif reduce_size == 'interp':\\n    hind_ym = hind_ym.interp_like(target_grid)\";\n",
       "                var nbb_formatted_code = \"if reduce_size == \\\"regrid\\\":\\n    # fails when lazy\\n    hind_ym = regrid(hind_ym.load())\\nelif reduce_size == \\\"interp\\\":\\n    hind_ym = hind_ym.interp_like(target_grid)\";\n",
       "                var nbb_cells = Jupyter.notebook.get_cells();\n",
       "                for (var i = 0; i < nbb_cells.length; ++i) {\n",
       "                    if (nbb_cells[i].input_prompt_number == nbb_cell_id) {\n",
       "                        if (nbb_cells[i].get_text() == nbb_unformatted_code) {\n",
       "                             nbb_cells[i].set_text(nbb_formatted_code);\n",
       "                        }\n",
       "                        break;\n",
       "                    }\n",
       "                }\n",
       "            }, 500);\n",
       "            "
      ],
      "text/plain": [
       "<IPython.core.display.Javascript object>"
      ]
     },
     "metadata": {},
     "output_type": "display_data"
    }
   ],
   "source": [
    "if reduce_size == 'regrid':\n",
    "    # fails when lazy\n",
    "    hind_ym = regrid(hind_ym.load())\n",
    "elif reduce_size == 'interp':\n",
    "    hind_ym = hind_ym.interp_like(target_grid)"
   ]
  },
  {
   "cell_type": "code",
   "execution_count": 33,
   "metadata": {},
   "outputs": [
    {
     "data": {
      "application/javascript": [
       "\n",
       "            setTimeout(function() {\n",
       "                var nbb_cell_id = 33;\n",
       "                var nbb_unformatted_code = \"if reduce_size == 'regrid':\\n    # fails when lazy\\n    hist_ym = regrid(hist_ym.load())\\nelif reduce_size == 'interp':\\n    hist_ym = hist_ym.interp_like(target_grid)\";\n",
       "                var nbb_formatted_code = \"if reduce_size == \\\"regrid\\\":\\n    # fails when lazy\\n    hist_ym = regrid(hist_ym.load())\\nelif reduce_size == \\\"interp\\\":\\n    hist_ym = hist_ym.interp_like(target_grid)\";\n",
       "                var nbb_cells = Jupyter.notebook.get_cells();\n",
       "                for (var i = 0; i < nbb_cells.length; ++i) {\n",
       "                    if (nbb_cells[i].input_prompt_number == nbb_cell_id) {\n",
       "                        if (nbb_cells[i].get_text() == nbb_unformatted_code) {\n",
       "                             nbb_cells[i].set_text(nbb_formatted_code);\n",
       "                        }\n",
       "                        break;\n",
       "                    }\n",
       "                }\n",
       "            }, 500);\n",
       "            "
      ],
      "text/plain": [
       "<IPython.core.display.Javascript object>"
      ]
     },
     "metadata": {},
     "output_type": "display_data"
    }
   ],
   "source": [
    "if reduce_size == 'regrid':\n",
    "    # fails when lazy\n",
    "    hist_ym = regrid(hist_ym.load())\n",
    "elif reduce_size == 'interp':\n",
    "    hist_ym = hist_ym.interp_like(target_grid)"
   ]
  },
  {
   "cell_type": "code",
   "execution_count": 67,
   "metadata": {},
   "outputs": [
    {
     "data": {
      "application/javascript": [
       "\n",
       "            setTimeout(function() {\n",
       "                var nbb_cell_id = 67;\n",
       "                var nbb_unformatted_code = \"if reduce_size == 'regrid':\\n    obs_ym = regrid(obs_ym)\\nelif reduce_size == 'interp':\\n    obs_ym = obs_ym.interp_like(target_grid)\";\n",
       "                var nbb_formatted_code = \"if reduce_size == \\\"regrid\\\":\\n    obs_ym = regrid(obs_ym)\\nelif reduce_size == \\\"interp\\\":\\n    obs_ym = obs_ym.interp_like(target_grid)\";\n",
       "                var nbb_cells = Jupyter.notebook.get_cells();\n",
       "                for (var i = 0; i < nbb_cells.length; ++i) {\n",
       "                    if (nbb_cells[i].input_prompt_number == nbb_cell_id) {\n",
       "                        if (nbb_cells[i].get_text() == nbb_unformatted_code) {\n",
       "                             nbb_cells[i].set_text(nbb_formatted_code);\n",
       "                        }\n",
       "                        break;\n",
       "                    }\n",
       "                }\n",
       "            }, 500);\n",
       "            "
      ],
      "text/plain": [
       "<IPython.core.display.Javascript object>"
      ]
     },
     "metadata": {},
     "output_type": "display_data"
    }
   ],
   "source": [
    "if reduce_size == 'regrid':\n",
    "    obs_ym = regrid(obs_ym)\n",
    "elif reduce_size == 'interp':\n",
    "    obs_ym = obs_ym.interp_like(target_grid)"
   ]
  },
  {
   "cell_type": "markdown",
   "metadata": {},
   "source": [
    "#### check the inputs 👀"
   ]
  },
  {
   "cell_type": "code",
   "execution_count": 74,
   "metadata": {},
   "outputs": [
    {
     "data": {
      "application/javascript": [
       "\n",
       "            setTimeout(function() {\n",
       "                var nbb_cell_id = 74;\n",
       "                var nbb_unformatted_code = \"#hind_ym.isel(member=0,lead=2,init=2).plot()\";\n",
       "                var nbb_formatted_code = \"# hind_ym.isel(member=0,lead=2,init=2).plot()\";\n",
       "                var nbb_cells = Jupyter.notebook.get_cells();\n",
       "                for (var i = 0; i < nbb_cells.length; ++i) {\n",
       "                    if (nbb_cells[i].input_prompt_number == nbb_cell_id) {\n",
       "                        if (nbb_cells[i].get_text() == nbb_unformatted_code) {\n",
       "                             nbb_cells[i].set_text(nbb_formatted_code);\n",
       "                        }\n",
       "                        break;\n",
       "                    }\n",
       "                }\n",
       "            }, 500);\n",
       "            "
      ],
      "text/plain": [
       "<IPython.core.display.Javascript object>"
      ]
     },
     "metadata": {},
     "output_type": "display_data"
    }
   ],
   "source": [
    "#hind_ym.isel(member=0,lead=2,init=2).plot()"
   ]
  },
  {
   "cell_type": "code",
   "execution_count": 75,
   "metadata": {},
   "outputs": [
    {
     "data": {
      "application/javascript": [
       "\n",
       "            setTimeout(function() {\n",
       "                var nbb_cell_id = 75;\n",
       "                var nbb_unformatted_code = \"#hist_ym.isel(member=0,time=2).plot()\";\n",
       "                var nbb_formatted_code = \"# hist_ym.isel(member=0,time=2).plot()\";\n",
       "                var nbb_cells = Jupyter.notebook.get_cells();\n",
       "                for (var i = 0; i < nbb_cells.length; ++i) {\n",
       "                    if (nbb_cells[i].input_prompt_number == nbb_cell_id) {\n",
       "                        if (nbb_cells[i].get_text() == nbb_unformatted_code) {\n",
       "                             nbb_cells[i].set_text(nbb_formatted_code);\n",
       "                        }\n",
       "                        break;\n",
       "                    }\n",
       "                }\n",
       "            }, 500);\n",
       "            "
      ],
      "text/plain": [
       "<IPython.core.display.Javascript object>"
      ]
     },
     "metadata": {},
     "output_type": "display_data"
    }
   ],
   "source": [
    "#hist_ym.isel(member=0,time=2).plot()"
   ]
  },
  {
   "cell_type": "code",
   "execution_count": 76,
   "metadata": {},
   "outputs": [
    {
     "data": {
      "application/javascript": [
       "\n",
       "            setTimeout(function() {\n",
       "                var nbb_cell_id = 76;\n",
       "                var nbb_unformatted_code = \"#obs_ym.isel(time=-2).plot()\";\n",
       "                var nbb_formatted_code = \"# obs_ym.isel(time=-2).plot()\";\n",
       "                var nbb_cells = Jupyter.notebook.get_cells();\n",
       "                for (var i = 0; i < nbb_cells.length; ++i) {\n",
       "                    if (nbb_cells[i].input_prompt_number == nbb_cell_id) {\n",
       "                        if (nbb_cells[i].get_text() == nbb_unformatted_code) {\n",
       "                             nbb_cells[i].set_text(nbb_formatted_code);\n",
       "                        }\n",
       "                        break;\n",
       "                    }\n",
       "                }\n",
       "            }, 500);\n",
       "            "
      ],
      "text/plain": [
       "<IPython.core.display.Javascript object>"
      ]
     },
     "metadata": {},
     "output_type": "display_data"
    }
   ],
   "source": [
    "#obs_ym.isel(time=-2).plot()"
   ]
  },
  {
   "cell_type": "markdown",
   "metadata": {},
   "source": [
    "## Skill"
   ]
  },
  {
   "cell_type": "code",
   "execution_count": 40,
   "metadata": {},
   "outputs": [
    {
     "data": {
      "application/javascript": [
       "\n",
       "            setTimeout(function() {\n",
       "                var nbb_cell_id = 40;\n",
       "                var nbb_unformatted_code = \"from climpred import HindcastEnsemble\\n\\ncp_kwargs = {'metric': 'acc', 'comparison':'e2r', 'dim':'init', 'alignment':'same_verifs'}\";\n",
       "                var nbb_formatted_code = \"from climpred import HindcastEnsemble\\n\\ncp_kwargs = {\\n    \\\"metric\\\": \\\"acc\\\",\\n    \\\"comparison\\\": \\\"e2r\\\",\\n    \\\"dim\\\": \\\"init\\\",\\n    \\\"alignment\\\": \\\"same_verifs\\\",\\n}\";\n",
       "                var nbb_cells = Jupyter.notebook.get_cells();\n",
       "                for (var i = 0; i < nbb_cells.length; ++i) {\n",
       "                    if (nbb_cells[i].input_prompt_number == nbb_cell_id) {\n",
       "                        if (nbb_cells[i].get_text() == nbb_unformatted_code) {\n",
       "                             nbb_cells[i].set_text(nbb_formatted_code);\n",
       "                        }\n",
       "                        break;\n",
       "                    }\n",
       "                }\n",
       "            }, 500);\n",
       "            "
      ],
      "text/plain": [
       "<IPython.core.display.Javascript object>"
      ]
     },
     "metadata": {},
     "output_type": "display_data"
    }
   ],
   "source": [
    "from climpred import HindcastEnsemble\n",
    "\n",
    "cp_kwargs = {'metric': 'acc', 'comparison':'e2r', 'dim':'init', 'alignment':'same_verifs'}"
   ]
  },
  {
   "cell_type": "code",
   "execution_count": 37,
   "metadata": {},
   "outputs": [
    {
     "name": "stderr",
     "output_type": "stream",
     "text": [
      "/srv/conda/envs/notebook/lib/python3.7/site-packages/climpred/utils.py:141: UserWarning: Assuming annual resolution due to numeric inits. Change init to a datetime if it is another resolution.\n",
      "  \"Assuming annual resolution due to numeric inits. \"\n"
     ]
    },
    {
     "data": {
      "application/javascript": [
       "\n",
       "            setTimeout(function() {\n",
       "                var nbb_cell_id = 37;\n",
       "                var nbb_unformatted_code = \"hindcast = HindcastEnsemble(hind_ym).add_uninitialized(hist_ym).add_observations(obs_ym)\";\n",
       "                var nbb_formatted_code = \"hindcast = HindcastEnsemble(hind_ym).add_uninitialized(hist_ym).add_observations(obs_ym)\";\n",
       "                var nbb_cells = Jupyter.notebook.get_cells();\n",
       "                for (var i = 0; i < nbb_cells.length; ++i) {\n",
       "                    if (nbb_cells[i].input_prompt_number == nbb_cell_id) {\n",
       "                        if (nbb_cells[i].get_text() == nbb_unformatted_code) {\n",
       "                             nbb_cells[i].set_text(nbb_formatted_code);\n",
       "                        }\n",
       "                        break;\n",
       "                    }\n",
       "                }\n",
       "            }, 500);\n",
       "            "
      ],
      "text/plain": [
       "<IPython.core.display.Javascript object>"
      ]
     },
     "metadata": {},
     "output_type": "display_data"
    }
   ],
   "source": [
    "hindcast = HindcastEnsemble(hind_ym).add_uninitialized(hist_ym).add_observations(obs_ym)"
   ]
  },
  {
   "cell_type": "code",
   "execution_count": 38,
   "metadata": {},
   "outputs": [
    {
     "name": "stdout",
     "output_type": "stream",
     "text": [
      "CPU times: user 10.2 s, sys: 788 ms, total: 11 s\n",
      "Wall time: 1min 16s\n"
     ]
    },
    {
     "data": {
      "application/javascript": [
       "\n",
       "            setTimeout(function() {\n",
       "                var nbb_cell_id = 38;\n",
       "                var nbb_unformatted_code = \"# get dataset into memory if fits\\n%time hindcast = hindcast.compute()\";\n",
       "                var nbb_formatted_code = \"# get dataset into memory if fits\\n%time hindcast = hindcast.compute()\";\n",
       "                var nbb_cells = Jupyter.notebook.get_cells();\n",
       "                for (var i = 0; i < nbb_cells.length; ++i) {\n",
       "                    if (nbb_cells[i].input_prompt_number == nbb_cell_id) {\n",
       "                        if (nbb_cells[i].get_text() == nbb_unformatted_code) {\n",
       "                             nbb_cells[i].set_text(nbb_formatted_code);\n",
       "                        }\n",
       "                        break;\n",
       "                    }\n",
       "                }\n",
       "            }, 500);\n",
       "            "
      ],
      "text/plain": [
       "<IPython.core.display.Javascript object>"
      ]
     },
     "metadata": {},
     "output_type": "display_data"
    }
   ],
   "source": [
    "# get dataset into memory if fits\n",
    "%time hindcast = hindcast.compute()"
   ]
  },
  {
   "cell_type": "code",
   "execution_count": 70,
   "metadata": {},
   "outputs": [
    {
     "name": "stdout",
     "output_type": "stream",
     "text": [
      "CPU times: user 521 ms, sys: 18.2 ms, total: 539 ms\n",
      "Wall time: 600 ms\n"
     ]
    },
    {
     "data": {
      "application/javascript": [
       "\n",
       "            setTimeout(function() {\n",
       "                var nbb_cell_id = 70;\n",
       "                var nbb_unformatted_code = \"%time skill = hindcast.verify(**cp_kwargs)\";\n",
       "                var nbb_formatted_code = \"%time skill = hindcast.verify(**cp_kwargs)\";\n",
       "                var nbb_cells = Jupyter.notebook.get_cells();\n",
       "                for (var i = 0; i < nbb_cells.length; ++i) {\n",
       "                    if (nbb_cells[i].input_prompt_number == nbb_cell_id) {\n",
       "                        if (nbb_cells[i].get_text() == nbb_unformatted_code) {\n",
       "                             nbb_cells[i].set_text(nbb_formatted_code);\n",
       "                        }\n",
       "                        break;\n",
       "                    }\n",
       "                }\n",
       "            }, 500);\n",
       "            "
      ],
      "text/plain": [
       "<IPython.core.display.Javascript object>"
      ]
     },
     "metadata": {},
     "output_type": "display_data"
    }
   ],
   "source": [
    "%time skill = hindcast.verify(**cp_kwargs)"
   ]
  },
  {
   "cell_type": "code",
   "execution_count": 77,
   "metadata": {},
   "outputs": [
    {
     "data": {
      "application/javascript": [
       "\n",
       "            setTimeout(function() {\n",
       "                var nbb_cell_id = 77;\n",
       "                var nbb_unformatted_code = \"import cartopy.crs as ccrs\\n\\ndef plot_skill(skill,map_proj=ccrs.PlateCarree(),**plot_kwargs):\\n    p=skill.plot(col='lead', col_wrap=5, robust=True,\\n                 transform=ccrs.PlateCarree(),  # the data's projection\\n                 aspect=skill[\\\"lon\\\"].size / skill[\\\"lat\\\"].size,  # for a sensible figsize\\n                 subplot_kws={\\\"projection\\\": map_proj},  # the plot's projection\\n                **plot_kwargs)\\n    for ax in p.axes.flat:\\n        ax.coastlines()\\n    return p\";\n",
       "                var nbb_formatted_code = \"import cartopy.crs as ccrs\\n\\n\\ndef plot_skill(skill, map_proj=ccrs.PlateCarree(), **plot_kwargs):\\n    p = skill.plot(\\n        col=\\\"lead\\\",\\n        col_wrap=5,\\n        robust=True,\\n        transform=ccrs.PlateCarree(),  # the data's projection\\n        aspect=skill[\\\"lon\\\"].size / skill[\\\"lat\\\"].size,  # for a sensible figsize\\n        subplot_kws={\\\"projection\\\": map_proj},  # the plot's projection\\n        **plot_kwargs\\n    )\\n    for ax in p.axes.flat:\\n        ax.coastlines()\\n    return p\";\n",
       "                var nbb_cells = Jupyter.notebook.get_cells();\n",
       "                for (var i = 0; i < nbb_cells.length; ++i) {\n",
       "                    if (nbb_cells[i].input_prompt_number == nbb_cell_id) {\n",
       "                        if (nbb_cells[i].get_text() == nbb_unformatted_code) {\n",
       "                             nbb_cells[i].set_text(nbb_formatted_code);\n",
       "                        }\n",
       "                        break;\n",
       "                    }\n",
       "                }\n",
       "            }, 500);\n",
       "            "
      ],
      "text/plain": [
       "<IPython.core.display.Javascript object>"
      ]
     },
     "metadata": {},
     "output_type": "display_data"
    }
   ],
   "source": [
    "import cartopy.crs as ccrs\n",
    "\n",
    "def plot_skill(skill,map_proj=ccrs.PlateCarree(),**plot_kwargs):\n",
    "    p=skill.plot(col='lead', col_wrap=5, robust=True,\n",
    "                 transform=ccrs.PlateCarree(),  # the data's projection\n",
    "                 aspect=skill[\"lon\"].size / skill[\"lat\"].size,  # for a sensible figsize\n",
    "                 subplot_kws={\"projection\": map_proj},  # the plot's projection\n",
    "                **plot_kwargs)\n",
    "    #todo make lon work with cartopy coastlines\n",
    "    #for ax in p.axes.flat:\n",
    "    #    ax.coastlines()\n",
    "    return p"
   ]
  },
  {
   "cell_type": "code",
   "execution_count": 78,
   "metadata": {},
   "outputs": [
    {
     "data": {
      "text/plain": [
       "<xarray.plot.facetgrid.FacetGrid at 0x7f2cf9decad0>"
      ]
     },
     "execution_count": 78,
     "metadata": {},
     "output_type": "execute_result"
    },
    {
     "name": "stderr",
     "output_type": "stream",
     "text": [
      "/srv/conda/envs/notebook/lib/python3.7/site-packages/cartopy/io/__init__.py:260: DownloadWarning: Downloading: https://naciscdn.org/naturalearth/110m/physical/ne_110m_coastline.zip\n",
      "  warnings.warn('Downloading: {}'.format(url), DownloadWarning)\n"
     ]
    },
    {
     "data": {
      "image/png": "[encoded data removed]",
      "text/plain": [
       "<Figure size 2232x432 with 11 Axes>"
      ]
     },
     "metadata": {
      "needs_background": "light"
     },
     "output_type": "display_data"
    },
    {
     "data": {
      "application/javascript": [
       "\n",
       "            setTimeout(function() {\n",
       "                var nbb_cell_id = 78;\n",
       "                var nbb_unformatted_code = \"plot_skill(skill[variable_id])\";\n",
       "                var nbb_formatted_code = \"plot_skill(skill[variable_id])\";\n",
       "                var nbb_cells = Jupyter.notebook.get_cells();\n",
       "                for (var i = 0; i < nbb_cells.length; ++i) {\n",
       "                    if (nbb_cells[i].input_prompt_number == nbb_cell_id) {\n",
       "                        if (nbb_cells[i].get_text() == nbb_unformatted_code) {\n",
       "                             nbb_cells[i].set_text(nbb_formatted_code);\n",
       "                        }\n",
       "                        break;\n",
       "                    }\n",
       "                }\n",
       "            }, 500);\n",
       "            "
      ],
      "text/plain": [
       "<IPython.core.display.Javascript object>"
      ]
     },
     "metadata": {},
     "output_type": "display_data"
    }
   ],
   "source": [
    "plot_skill(skill[variable_id])"
   ]
  },
  {
   "cell_type": "code",
   "execution_count": 73,
   "metadata": {},
   "outputs": [
    {
     "data": {
      "application/javascript": [
       "\n",
       "            setTimeout(function() {\n",
       "                var nbb_cell_id = 73;\n",
       "                var nbb_unformatted_code = \"import dask\\nif dask.is_dask_collection(hindcast.get_initialized()):\\n    %time skill = hindcast.verify(**cp_kwargs)\\n    display(skill[variable_id].data)\\n    %time skillc = skill.compute()\";\n",
       "                var nbb_formatted_code = \"import dask\\n\\nif dask.is_dask_collection(hindcast.get_initialized()):\\n    %time skill = hindcast.verify(**cp_kwargs)\\n    display(skill[variable_id].data)\\n    %time skillc = skill.compute()\";\n",
       "                var nbb_cells = Jupyter.notebook.get_cells();\n",
       "                for (var i = 0; i < nbb_cells.length; ++i) {\n",
       "                    if (nbb_cells[i].input_prompt_number == nbb_cell_id) {\n",
       "                        if (nbb_cells[i].get_text() == nbb_unformatted_code) {\n",
       "                             nbb_cells[i].set_text(nbb_formatted_code);\n",
       "                        }\n",
       "                        break;\n",
       "                    }\n",
       "                }\n",
       "            }, 500);\n",
       "            "
      ],
      "text/plain": [
       "<IPython.core.display.Javascript object>"
      ]
     },
     "metadata": {},
     "output_type": "display_data"
    }
   ],
   "source": [
    "import dask\n",
    "if dask.is_dask_collection(hindcast.get_initialized()):\n",
    "    %time skill = hindcast.verify(**cp_kwargs)\n",
    "    display(skill[variable_id].data)\n",
    "    %time skillc = skill.compute()"
   ]
  },
  {
   "cell_type": "markdown",
   "metadata": {},
   "source": [
    "## Bootstrap significant skill"
   ]
  },
  {
   "cell_type": "code",
   "execution_count": 79,
   "metadata": {},
   "outputs": [
    {
     "data": {
      "application/javascript": [
       "\n",
       "            setTimeout(function() {\n",
       "                var nbb_cell_id = 79;\n",
       "                var nbb_unformatted_code = \"iterations=10\";\n",
       "                var nbb_formatted_code = \"iterations = 10\";\n",
       "                var nbb_cells = Jupyter.notebook.get_cells();\n",
       "                for (var i = 0; i < nbb_cells.length; ++i) {\n",
       "                    if (nbb_cells[i].input_prompt_number == nbb_cell_id) {\n",
       "                        if (nbb_cells[i].get_text() == nbb_unformatted_code) {\n",
       "                             nbb_cells[i].set_text(nbb_formatted_code);\n",
       "                        }\n",
       "                        break;\n",
       "                    }\n",
       "                }\n",
       "            }, 500);\n",
       "            "
      ],
      "text/plain": [
       "<IPython.core.display.Javascript object>"
      ]
     },
     "metadata": {},
     "output_type": "display_data"
    }
   ],
   "source": [
    "iterations=10"
   ]
  },
  {
   "cell_type": "code",
   "execution_count": 80,
   "metadata": {},
   "outputs": [
    {
     "name": "stdout",
     "output_type": "stream",
     "text": [
      "CPU times: user 1.76 s, sys: 394 ms, total: 2.15 s\n",
      "Wall time: 2.35 s\n"
     ]
    },
    {
     "data": {
      "application/javascript": [
       "\n",
       "            setTimeout(function() {\n",
       "                var nbb_cell_id = 80;\n",
       "                var nbb_unformatted_code = \"%time bskill = hindcast.bootstrap(iterations=iterations, **cp_kwargs)\";\n",
       "                var nbb_formatted_code = \"%time bskill = hindcast.bootstrap(iterations=iterations, **cp_kwargs)\";\n",
       "                var nbb_cells = Jupyter.notebook.get_cells();\n",
       "                for (var i = 0; i < nbb_cells.length; ++i) {\n",
       "                    if (nbb_cells[i].input_prompt_number == nbb_cell_id) {\n",
       "                        if (nbb_cells[i].get_text() == nbb_unformatted_code) {\n",
       "                             nbb_cells[i].set_text(nbb_formatted_code);\n",
       "                        }\n",
       "                        break;\n",
       "                    }\n",
       "                }\n",
       "            }, 500);\n",
       "            "
      ],
      "text/plain": [
       "<IPython.core.display.Javascript object>"
      ]
     },
     "metadata": {},
     "output_type": "display_data"
    }
   ],
   "source": [
    "%time bskill = hindcast.bootstrap(iterations=iterations, **cp_kwargs)"
   ]
  },
  {
   "cell_type": "code",
   "execution_count": null,
   "metadata": {},
   "outputs": [],
   "source": [
    "improved_by_init = bskill.sel(results='p',kind='uninitialized') <= 0.05\n",
    "plot_skill(improved_by_init[variable_id])"
   ]
  },
  {
   "cell_type": "markdown",
   "metadata": {},
   "source": [
    "#### correct for FDR"
   ]
  },
  {
   "cell_type": "code",
   "execution_count": null,
   "metadata": {},
   "outputs": [],
   "source": [
    "from esmtools.testing import multipletests\n",
    "_, bskill_fdr_corr_p = multipletests(\n",
    "    bskill.sel(skill=\"uninitialized\", results=\"p\"), method=\"fdr_bh\", alpha=.05\n",
    ")\n",
    "\n",
    "improved_by_init_corr = bskill_fdr_corr_p <= .05\n",
    "plot_skill(improved_by_init_corr[variable_id])"
   ]
  },
  {
   "cell_type": "markdown",
   "metadata": {},
   "source": [
    "#### lazily with `dask`\n",
    "when chunk by lead ~ 100mb"
   ]
  },
  {
   "cell_type": "code",
   "execution_count": 85,
   "metadata": {},
   "outputs": [
    {
     "name": "stderr",
     "output_type": "stream",
     "text": [
      "/srv/conda/envs/notebook/lib/python3.7/site-packages/climpred/utils.py:141: UserWarning: Assuming annual resolution due to numeric inits. Change init to a datetime if it is another resolution.\n",
      "  \"Assuming annual resolution due to numeric inits. \"\n"
     ]
    },
    {
     "data": {
      "text/html": [
       "<table>\n",
       "<tr>\n",
       "<td>\n",
       "<table>\n",
       "  <thead>\n",
       "    <tr><td> </td><th> Array </th><th> Chunk </th></tr>\n",
       "  </thead>\n",
       "  <tbody>\n",
       "    <tr><th> Bytes </th><td> 20.74 MB </td> <td> 20.74 MB </td></tr>\n",
       "    <tr><th> Shape </th><td> (5, 40, 10, 36, 72) </td> <td> (5, 40, 10, 36, 72) </td></tr>\n",
       "    <tr><th> Count </th><td> 25005 Tasks </td><td> 1 Chunks </td></tr>\n",
       "    <tr><th> Type </th><td> float32 </td><td> numpy.ndarray </td></tr>\n",
       "  </tbody>\n",
       "</table>\n",
       "</td>\n",
       "<td>\n",
       "<svg width=\"465\" height=\"133\" style=\"stroke:rgb(0,0,0);stroke-width:1\" >\n",
       "\n",
       "  <!-- Horizontal lines -->\n",
       "  <line x1=\"0\" y1=\"0\" x2=\"66\" y2=\"0\" style=\"stroke-width:2\" />\n",
       "  <line x1=\"0\" y1=\"36\" x2=\"66\" y2=\"36\" style=\"stroke-width:2\" />\n",
       "\n",
       "  <!-- Vertical lines -->\n",
       "  <line x1=\"0\" y1=\"0\" x2=\"0\" y2=\"36\" style=\"stroke-width:2\" />\n",
       "  <line x1=\"66\" y1=\"0\" x2=\"66\" y2=\"36\" style=\"stroke-width:2\" />\n",
       "\n",
       "  <!-- Colored Rectangle -->\n",
       "  <polygon points=\"0.0,0.0 66.66666666666667,0.0 66.66666666666667,36.49189001366748 0.0,36.49189001366748\" style=\"fill:#ECB172A0;stroke-width:0\"/>\n",
       "\n",
       "  <!-- Text -->\n",
       "  <text x=\"33.333333\" y=\"56.491890\" font-size=\"1.0rem\" font-weight=\"100\" text-anchor=\"middle\" >40</text>\n",
       "  <text x=\"86.666667\" y=\"18.245945\" font-size=\"1.0rem\" font-weight=\"100\" text-anchor=\"middle\" transform=\"rotate(0,86.666667,18.245945)\">5</text>\n",
       "\n",
       "\n",
       "  <!-- Horizontal lines -->\n",
       "  <line x1=\"136\" y1=\"0\" x2=\"159\" y2=\"23\" style=\"stroke-width:2\" />\n",
       "  <line x1=\"136\" y1=\"60\" x2=\"159\" y2=\"83\" style=\"stroke-width:2\" />\n",
       "\n",
       "  <!-- Vertical lines -->\n",
       "  <line x1=\"136\" y1=\"0\" x2=\"136\" y2=\"60\" style=\"stroke-width:2\" />\n",
       "  <line x1=\"159\" y1=\"23\" x2=\"159\" y2=\"83\" style=\"stroke-width:2\" />\n",
       "\n",
       "  <!-- Colored Rectangle -->\n",
       "  <polygon points=\"136.0,0.0 159.72291510562926,23.72291510562925 159.72291510562926,83.72291510562926 136.0,60.0\" style=\"fill:#ECB172A0;stroke-width:0\"/>\n",
       "\n",
       "  <!-- Horizontal lines -->\n",
       "  <line x1=\"136\" y1=\"0\" x2=\"256\" y2=\"0\" style=\"stroke-width:2\" />\n",
       "  <line x1=\"159\" y1=\"23\" x2=\"279\" y2=\"23\" style=\"stroke-width:2\" />\n",
       "\n",
       "  <!-- Vertical lines -->\n",
       "  <line x1=\"136\" y1=\"0\" x2=\"159\" y2=\"23\" style=\"stroke-width:2\" />\n",
       "  <line x1=\"256\" y1=\"0\" x2=\"279\" y2=\"23\" style=\"stroke-width:2\" />\n",
       "\n",
       "  <!-- Colored Rectangle -->\n",
       "  <polygon points=\"136.0,0.0 256.0,0.0 279.7229151056292,23.72291510562925 159.72291510562926,23.72291510562925\" style=\"fill:#ECB172A0;stroke-width:0\"/>\n",
       "\n",
       "  <!-- Horizontal lines -->\n",
       "  <line x1=\"159\" y1=\"23\" x2=\"279\" y2=\"23\" style=\"stroke-width:2\" />\n",
       "  <line x1=\"159\" y1=\"83\" x2=\"279\" y2=\"83\" style=\"stroke-width:2\" />\n",
       "\n",
       "  <!-- Vertical lines -->\n",
       "  <line x1=\"159\" y1=\"23\" x2=\"159\" y2=\"83\" style=\"stroke-width:2\" />\n",
       "  <line x1=\"279\" y1=\"23\" x2=\"279\" y2=\"83\" style=\"stroke-width:2\" />\n",
       "\n",
       "  <!-- Colored Rectangle -->\n",
       "  <polygon points=\"159.72291510562926,23.72291510562925 279.7229151056292,23.72291510562925 279.7229151056292,83.72291510562926 159.72291510562926,83.72291510562926\" style=\"fill:#ECB172A0;stroke-width:0\"/>\n",
       "\n",
       "  <!-- Text -->\n",
       "  <text x=\"219.722915\" y=\"103.722915\" font-size=\"1.0rem\" font-weight=\"100\" text-anchor=\"middle\" >72</text>\n",
       "  <text x=\"299.722915\" y=\"53.722915\" font-size=\"1.0rem\" font-weight=\"100\" text-anchor=\"middle\" transform=\"rotate(0,299.722915,53.722915)\">36</text>\n",
       "  <text x=\"137.861458\" y=\"91.861458\" font-size=\"1.0rem\" font-weight=\"100\" text-anchor=\"middle\" transform=\"rotate(45,137.861458,91.861458)\">10</text>\n",
       "</svg>\n",
       "</td>\n",
       "</tr>\n",
       "</table>"
      ],
      "text/plain": [
       "dask.array<rechunk-merge, shape=(5, 40, 10, 36, 72), dtype=float32, chunksize=(5, 40, 10, 36, 72), chunktype=numpy.ndarray>"
      ]
     },
     "execution_count": 85,
     "metadata": {},
     "output_type": "execute_result"
    },
    {
     "data": {
      "application/javascript": [
       "\n",
       "            setTimeout(function() {\n",
       "                var nbb_cell_id = 85;\n",
       "                var nbb_unformatted_code = \"#hindcast = hindcast.chunk({'lead':-1, 'member':-1, 'init':-1, 'time':-1}).persist()\\nhindcast = HindcastEnsemble(hind_ym.chunk({'lead':-1, 'member':-1, 'init':-1})).add_uninitialized(hist_ym.chunk({'member':-1,'time':-1})).add_observations(obs_ym.chunk({'time':-1}))\\n\\nhindcast.get_initialized()[variable_id].data\";\n",
       "                var nbb_formatted_code = \"# hindcast = hindcast.chunk({'lead':-1, 'member':-1, 'init':-1, 'time':-1}).persist()\\nhindcast = (\\n    HindcastEnsemble(hind_ym.chunk({\\\"lead\\\": -1, \\\"member\\\": -1, \\\"init\\\": -1}))\\n    .add_uninitialized(hist_ym.chunk({\\\"member\\\": -1, \\\"time\\\": -1}))\\n    .add_observations(obs_ym.chunk({\\\"time\\\": -1}))\\n)\\n\\nhindcast.get_initialized()[variable_id].data\";\n",
       "                var nbb_cells = Jupyter.notebook.get_cells();\n",
       "                for (var i = 0; i < nbb_cells.length; ++i) {\n",
       "                    if (nbb_cells[i].input_prompt_number == nbb_cell_id) {\n",
       "                        if (nbb_cells[i].get_text() == nbb_unformatted_code) {\n",
       "                             nbb_cells[i].set_text(nbb_formatted_code);\n",
       "                        }\n",
       "                        break;\n",
       "                    }\n",
       "                }\n",
       "            }, 500);\n",
       "            "
      ],
      "text/plain": [
       "<IPython.core.display.Javascript object>"
      ]
     },
     "metadata": {},
     "output_type": "display_data"
    }
   ],
   "source": [
    "#hindcast = hindcast.chunk({'lead':-1, 'member':-1, 'init':-1, 'time':-1}).persist()\n",
    "hindcast = HindcastEnsemble(hind_ym.chunk({'lead':-1, 'member':-1, 'init':-1})).add_uninitialized(hist_ym.chunk({'member':-1,'time':-1})).add_observations(obs_ym.chunk({'time':-1}))\n",
    "\n",
    "hindcast.get_initialized()[variable_id].data"
   ]
  },
  {
   "cell_type": "code",
   "execution_count": 86,
   "metadata": {},
   "outputs": [
    {
     "name": "stderr",
     "output_type": "stream",
     "text": [
      "/srv/conda/envs/notebook/lib/python3.7/site-packages/climpred/checks.py:243: UserWarning: Chunking might not bring parallelized performance increase, because only few CPUs available, found 2 CPUs.\n",
      "  f\"Chunking might not bring parallelized performance increase, \"\n"
     ]
    },
    {
     "name": "stdout",
     "output_type": "stream",
     "text": [
      "CPU times: user 1.36 s, sys: 15.1 ms, total: 1.37 s\n",
      "Wall time: 1.45 s\n"
     ]
    },
    {
     "data": {
      "application/javascript": [
       "\n",
       "            setTimeout(function() {\n",
       "                var nbb_cell_id = 86;\n",
       "                var nbb_unformatted_code = \"%time bskill = hindcast.bootstrap(iterations=iterations, **cp_kwargs)\";\n",
       "                var nbb_formatted_code = \"%time bskill = hindcast.bootstrap(iterations=iterations, **cp_kwargs)\";\n",
       "                var nbb_cells = Jupyter.notebook.get_cells();\n",
       "                for (var i = 0; i < nbb_cells.length; ++i) {\n",
       "                    if (nbb_cells[i].input_prompt_number == nbb_cell_id) {\n",
       "                        if (nbb_cells[i].get_text() == nbb_unformatted_code) {\n",
       "                             nbb_cells[i].set_text(nbb_formatted_code);\n",
       "                        }\n",
       "                        break;\n",
       "                    }\n",
       "                }\n",
       "            }, 500);\n",
       "            "
      ],
      "text/plain": [
       "<IPython.core.display.Javascript object>"
      ]
     },
     "metadata": {},
     "output_type": "display_data"
    }
   ],
   "source": [
    "%time bskill = hindcast.bootstrap(iterations=iterations, **cp_kwargs)"
   ]
  },
  {
   "cell_type": "code",
   "execution_count": 87,
   "metadata": {},
   "outputs": [
    {
     "data": {
      "text/html": [
       "<table>\n",
       "<tr>\n",
       "<td>\n",
       "<table>\n",
       "  <thead>\n",
       "    <tr><td> </td><th> Array </th><th> Chunk </th></tr>\n",
       "  </thead>\n",
       "  <tbody>\n",
       "    <tr><th> Bytes </th><td> 622.08 kB </td> <td> 20.74 kB </td></tr>\n",
       "    <tr><th> Shape </th><td> (3, 10, 36, 72) </td> <td> (1, 1, 36, 72) </td></tr>\n",
       "    <tr><th> Count </th><td> 26832 Tasks </td><td> 30 Chunks </td></tr>\n",
       "    <tr><th> Type </th><td> float64 </td><td> numpy.ndarray </td></tr>\n",
       "  </tbody>\n",
       "</table>\n",
       "</td>\n",
       "<td>\n",
       "<svg width=\"399\" height=\"133\" style=\"stroke:rgb(0,0,0);stroke-width:1\" >\n",
       "\n",
       "  <!-- Horizontal lines -->\n",
       "  <line x1=\"0\" y1=\"0\" x2=\"33\" y2=\"0\" style=\"stroke-width:2\" />\n",
       "  <line x1=\"0\" y1=\"27\" x2=\"33\" y2=\"27\" style=\"stroke-width:2\" />\n",
       "\n",
       "  <!-- Vertical lines -->\n",
       "  <line x1=\"0\" y1=\"0\" x2=\"0\" y2=\"27\" style=\"stroke-width:2\" />\n",
       "  <line x1=\"11\" y1=\"0\" x2=\"11\" y2=\"27\" />\n",
       "  <line x1=\"22\" y1=\"0\" x2=\"22\" y2=\"27\" />\n",
       "  <line x1=\"33\" y1=\"0\" x2=\"33\" y2=\"27\" style=\"stroke-width:2\" />\n",
       "\n",
       "  <!-- Colored Rectangle -->\n",
       "  <polygon points=\"0.0,0.0 33.38369844152673,0.0 33.38369844152673,27.054035963169408 0.0,27.054035963169408\" style=\"fill:#ECB172A0;stroke-width:0\"/>\n",
       "\n",
       "  <!-- Text -->\n",
       "  <text x=\"16.691849\" y=\"47.054036\" font-size=\"1.0rem\" font-weight=\"100\" text-anchor=\"middle\" >3</text>\n",
       "  <text x=\"53.383698\" y=\"13.527018\" font-size=\"1.0rem\" font-weight=\"100\" text-anchor=\"middle\" transform=\"rotate(0,53.383698,13.527018)\">1</text>\n",
       "\n",
       "\n",
       "  <!-- Horizontal lines -->\n",
       "  <line x1=\"103\" y1=\"0\" x2=\"126\" y2=\"23\" style=\"stroke-width:2\" />\n",
       "  <line x1=\"103\" y1=\"60\" x2=\"126\" y2=\"83\" style=\"stroke-width:2\" />\n",
       "\n",
       "  <!-- Vertical lines -->\n",
       "  <line x1=\"103\" y1=\"0\" x2=\"103\" y2=\"60\" style=\"stroke-width:2\" />\n",
       "  <line x1=\"105\" y1=\"2\" x2=\"105\" y2=\"62\" />\n",
       "  <line x1=\"107\" y1=\"4\" x2=\"107\" y2=\"64\" />\n",
       "  <line x1=\"110\" y1=\"7\" x2=\"110\" y2=\"67\" />\n",
       "  <line x1=\"112\" y1=\"9\" x2=\"112\" y2=\"69\" />\n",
       "  <line x1=\"114\" y1=\"11\" x2=\"114\" y2=\"71\" />\n",
       "  <line x1=\"117\" y1=\"14\" x2=\"117\" y2=\"74\" />\n",
       "  <line x1=\"119\" y1=\"16\" x2=\"119\" y2=\"76\" />\n",
       "  <line x1=\"121\" y1=\"18\" x2=\"121\" y2=\"78\" />\n",
       "  <line x1=\"124\" y1=\"21\" x2=\"124\" y2=\"81\" />\n",
       "  <line x1=\"126\" y1=\"23\" x2=\"126\" y2=\"83\" style=\"stroke-width:2\" />\n",
       "\n",
       "  <!-- Colored Rectangle -->\n",
       "  <polygon points=\"103.0,0.0 126.72291510562926,23.72291510562925 126.72291510562926,83.72291510562926 103.0,60.0\" style=\"fill:#ECB172A0;stroke-width:0\"/>\n",
       "\n",
       "  <!-- Horizontal lines -->\n",
       "  <line x1=\"103\" y1=\"0\" x2=\"223\" y2=\"0\" style=\"stroke-width:2\" />\n",
       "  <line x1=\"105\" y1=\"2\" x2=\"225\" y2=\"2\" />\n",
       "  <line x1=\"107\" y1=\"4\" x2=\"227\" y2=\"4\" />\n",
       "  <line x1=\"110\" y1=\"7\" x2=\"230\" y2=\"7\" />\n",
       "  <line x1=\"112\" y1=\"9\" x2=\"232\" y2=\"9\" />\n",
       "  <line x1=\"114\" y1=\"11\" x2=\"234\" y2=\"11\" />\n",
       "  <line x1=\"117\" y1=\"14\" x2=\"237\" y2=\"14\" />\n",
       "  <line x1=\"119\" y1=\"16\" x2=\"239\" y2=\"16\" />\n",
       "  <line x1=\"121\" y1=\"18\" x2=\"241\" y2=\"18\" />\n",
       "  <line x1=\"124\" y1=\"21\" x2=\"244\" y2=\"21\" />\n",
       "  <line x1=\"126\" y1=\"23\" x2=\"246\" y2=\"23\" style=\"stroke-width:2\" />\n",
       "\n",
       "  <!-- Vertical lines -->\n",
       "  <line x1=\"103\" y1=\"0\" x2=\"126\" y2=\"23\" style=\"stroke-width:2\" />\n",
       "  <line x1=\"223\" y1=\"0\" x2=\"246\" y2=\"23\" style=\"stroke-width:2\" />\n",
       "\n",
       "  <!-- Colored Rectangle -->\n",
       "  <polygon points=\"103.0,0.0 223.0,0.0 246.72291510562926,23.72291510562925 126.72291510562926,23.72291510562925\" style=\"fill:#ECB172A0;stroke-width:0\"/>\n",
       "\n",
       "  <!-- Horizontal lines -->\n",
       "  <line x1=\"126\" y1=\"23\" x2=\"246\" y2=\"23\" style=\"stroke-width:2\" />\n",
       "  <line x1=\"126\" y1=\"83\" x2=\"246\" y2=\"83\" style=\"stroke-width:2\" />\n",
       "\n",
       "  <!-- Vertical lines -->\n",
       "  <line x1=\"126\" y1=\"23\" x2=\"126\" y2=\"83\" style=\"stroke-width:2\" />\n",
       "  <line x1=\"246\" y1=\"23\" x2=\"246\" y2=\"83\" style=\"stroke-width:2\" />\n",
       "\n",
       "  <!-- Colored Rectangle -->\n",
       "  <polygon points=\"126.72291510562926,23.72291510562925 246.72291510562926,23.72291510562925 246.72291510562926,83.72291510562926 126.72291510562926,83.72291510562926\" style=\"fill:#ECB172A0;stroke-width:0\"/>\n",
       "\n",
       "  <!-- Text -->\n",
       "  <text x=\"186.722915\" y=\"103.722915\" font-size=\"1.0rem\" font-weight=\"100\" text-anchor=\"middle\" >72</text>\n",
       "  <text x=\"266.722915\" y=\"53.722915\" font-size=\"1.0rem\" font-weight=\"100\" text-anchor=\"middle\" transform=\"rotate(0,266.722915,53.722915)\">36</text>\n",
       "  <text x=\"104.861458\" y=\"91.861458\" font-size=\"1.0rem\" font-weight=\"100\" text-anchor=\"middle\" transform=\"rotate(45,104.861458,91.861458)\">10</text>\n",
       "</svg>\n",
       "</td>\n",
       "</tr>\n",
       "</table>"
      ],
      "text/plain": [
       "dask.array<concatenate, shape=(3, 10, 36, 72), dtype=float64, chunksize=(1, 1, 36, 72), chunktype=numpy.ndarray>"
      ]
     },
     "execution_count": 87,
     "metadata": {},
     "output_type": "execute_result"
    },
    {
     "data": {
      "application/javascript": [
       "\n",
       "            setTimeout(function() {\n",
       "                var nbb_cell_id = 87;\n",
       "                var nbb_unformatted_code = \"bskill[variable_id].data\";\n",
       "                var nbb_formatted_code = \"bskill[variable_id].data\";\n",
       "                var nbb_cells = Jupyter.notebook.get_cells();\n",
       "                for (var i = 0; i < nbb_cells.length; ++i) {\n",
       "                    if (nbb_cells[i].input_prompt_number == nbb_cell_id) {\n",
       "                        if (nbb_cells[i].get_text() == nbb_unformatted_code) {\n",
       "                             nbb_cells[i].set_text(nbb_formatted_code);\n",
       "                        }\n",
       "                        break;\n",
       "                    }\n",
       "                }\n",
       "            }, 500);\n",
       "            "
      ],
      "text/plain": [
       "<IPython.core.display.Javascript object>"
      ]
     },
     "metadata": {},
     "output_type": "display_data"
    }
   ],
   "source": [
    "bskill[variable_id].data"
   ]
  },
  {
   "cell_type": "code",
   "execution_count": null,
   "metadata": {},
   "outputs": [
    {
     "name": "stderr",
     "output_type": "stream",
     "text": [
      "/srv/conda/envs/notebook/lib/python3.7/site-packages/dask/array/numpy_compat.py:41: RuntimeWarning: invalid value encountered in true_divide\n",
      "  x = np.divide(x1, x2, out)\n"
     ]
    }
   ],
   "source": [
    "%time bskillc = bskill.compute()"
   ]
  },
  {
   "cell_type": "markdown",
   "metadata": {},
   "source": [
    "#### Close down"
   ]
  },
  {
   "cell_type": "code",
   "execution_count": null,
   "metadata": {},
   "outputs": [],
   "source": [
    "client.close()\n",
    "cluster.close()"
   ]
  },
  {
   "cell_type": "code",
   "execution_count": null,
   "metadata": {},
   "outputs": [],
   "source": [
    "regridder.clean_weight_file()"
   ]
  }
 ],
 "metadata": {
  "kernelspec": {
   "display_name": "Python [conda env:notebook] *",
   "language": "python",
   "name": "conda-env-notebook-py"
  },
  "language_info": {
   "codemirror_mode": {
    "name": "ipython",
    "version": 3
   },
   "file_extension": ".py",
   "mimetype": "text/x-python",
   "name": "python",
   "nbconvert_exporter": "python",
   "pygments_lexer": "ipython3",
   "version": "3.7.8"
  }
 },
 "nbformat": 4,
 "nbformat_minor": 4
}
