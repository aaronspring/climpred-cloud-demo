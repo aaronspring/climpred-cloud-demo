{
 "cells": [
  {
   "cell_type": "code",
   "execution_count": null,
   "metadata": {},
   "outputs": [],
   "source": [
    "#%load_ext nb_black"
   ]
  },
  {
   "cell_type": "code",
   "execution_count": 7,
   "metadata": {},
   "outputs": [],
   "source": [
    "#!pip install climpred"
   ]
  },
  {
   "cell_type": "code",
   "execution_count": 1,
   "metadata": {},
   "outputs": [],
   "source": [
    "# Import some python libraries\n",
    "%matplotlib inline\n",
    "\n",
    "import numpy as np\n",
    "import xarray as xr\n",
    "import matplotlib.pyplot as plt"
   ]
  },
  {
   "cell_type": "code",
   "execution_count": 2,
   "metadata": {},
   "outputs": [],
   "source": [
    "from dask_gateway import Gateway\n",
    "from dask.distributed import Client\n",
    "\n",
    "gateway = Gateway()\n",
    "options = gateway.cluster_options()\n",
    "options.worker_cores = 4\n",
    "cluster = gateway.new_cluster(cluster_options=options)\n",
    "\n",
    "cluster.scale(16) # scale up if more performance required\n",
    "from time import sleep\n",
    "sleep(10)"
   ]
  },
  {
   "cell_type": "code",
   "execution_count": 3,
   "metadata": {},
   "outputs": [
    {
     "data": {
      "text/html": [
       "<table style=\"border: 2px solid white;\">\n",
       "<tr>\n",
       "<td style=\"vertical-align: top; border: 0px solid white\">\n",
       "<h3 style=\"text-align: left;\">Client</h3>\n",
       "<ul style=\"text-align: left; list-style: none; margin: 0; padding: 0;\">\n",
       "  <li><b>Scheduler: </b>gateway://traefik-gcp-uscentral1b-prod-dask-gateway.prod:80/prod.bdc44f2594d64a2ca90cd6703ab41c58</li>\n",
       "  <li><b>Dashboard: </b><a href='/services/dask-gateway/clusters/prod.bdc44f2594d64a2ca90cd6703ab41c58/status' target='_blank'>/services/dask-gateway/clusters/prod.bdc44f2594d64a2ca90cd6703ab41c58/status</a></li>\n",
       "</ul>\n",
       "</td>\n",
       "<td style=\"vertical-align: top; border: 0px solid white\">\n",
       "<h3 style=\"text-align: left;\">Cluster</h3>\n",
       "<ul style=\"text-align: left; list-style:none; margin: 0; padding: 0;\">\n",
       "  <li><b>Workers: </b>8</li>\n",
       "  <li><b>Cores: </b>32</li>\n",
       "  <li><b>Memory: </b>34.36 GB</li>\n",
       "</ul>\n",
       "</td>\n",
       "</tr>\n",
       "</table>"
      ],
      "text/plain": [
       "<Client: 'tls://10.38.3.214:8786' processes=4 threads=16, memory=17.18 GB>"
      ]
     },
     "execution_count": 3,
     "metadata": {},
     "output_type": "execute_result"
    }
   ],
   "source": [
    "client = cluster.get_client()\n",
    "client.restart()"
   ]
  },
  {
   "cell_type": "markdown",
   "metadata": {},
   "source": [
    "---"
   ]
  },
  {
   "cell_type": "markdown",
   "metadata": {},
   "source": [
    "# Introduction\n",
    "\n",
    "This notebook demonstrates the performance of `climpred` on large datasets.\n",
    "Here, we run `PredictionEnsemble.bootstrap` to calculate a pvalue that initialized skill surpasses uninitialized skill."
   ]
  },
  {
   "cell_type": "markdown",
   "metadata": {},
   "source": [
    "---"
   ]
  },
  {
   "cell_type": "markdown",
   "metadata": {},
   "source": [
    "# `PerfectModelEnsemble`"
   ]
  },
  {
   "cell_type": "markdown",
   "metadata": {},
   "source": [
    "## fake data"
   ]
  },
  {
   "cell_type": "code",
   "execution_count": 4,
   "metadata": {},
   "outputs": [],
   "source": [
    "def gen_pm(degree=5, chunking_dim='lon'):\n",
    "    ds = xr.Dataset()\n",
    "    control = xr.Dataset()\n",
    "    nmember = 10\n",
    "    ninit = 12\n",
    "    nlead = 5\n",
    "    nx = 360//degree\n",
    "    ny = 180//degree\n",
    "    control_start = 3000\n",
    "    control_end = 3300\n",
    "    ntime = control_end - control_start\n",
    "\n",
    "    times = xr.cftime_range(\n",
    "        start=str(control_start),\n",
    "        periods=ntime,\n",
    "        freq='YS',\n",
    "        calendar='noleap',\n",
    "    )\n",
    "    leads = np.arange(1, 1 + nlead)\n",
    "    members = np.arange(1, 1 + nmember)\n",
    "    inits = xr.cftime_range(\n",
    "        start=str(control_start),\n",
    "        periods=ninit,\n",
    "        freq='10YS',\n",
    "        calendar='noleap',\n",
    "    )\n",
    "\n",
    "    lons = xr.DataArray(\n",
    "        np.linspace(0.5, 359.5, nx),\n",
    "        dims=('lon',),\n",
    "        attrs={'units': 'degrees east', 'long_name': 'longitude'},\n",
    "    )\n",
    "    lats = xr.DataArray(\n",
    "        np.linspace(-89.5, 89.5, ny),\n",
    "        dims=('lat',),\n",
    "        attrs={'units': 'degrees north', 'long_name': 'latitude'},\n",
    "    )\n",
    "    ds['var'] = xr.DataArray(\n",
    "                np.random.random(\n",
    "                    (nmember, ninit, nlead, nx, ny),\n",
    "                ),\n",
    "                coords={\n",
    "                    'member': members,\n",
    "                    'init': inits,\n",
    "                    'lon': lons,\n",
    "                    'lat': lats,\n",
    "                    'lead': leads,\n",
    "                },\n",
    "                dims=('member', 'init', 'lead', 'lon', 'lat'),\n",
    "                name='var',)\n",
    "\n",
    "    control['var'] = xr.DataArray(\n",
    "                np.random.random((ntime, nx, ny)),\n",
    "                coords={'lon': lons, 'lat': lats, 'time': times},\n",
    "                dims=('time', 'lon', 'lat'),\n",
    "                name='var',\n",
    "                attrs={'units': 'var units', 'description': 'a description'},\n",
    "            )\n",
    "    control=control['var'].chunk({'time':'auto'})\n",
    "\n",
    "    ds.lead.attrs['units'] = 'years'\n",
    "\n",
    "    ds=ds['var']\n",
    "    if chunking_dim is not None:\n",
    "        ds=ds.chunk({chunking_dim:'auto'})\n",
    "        control=control.chunk({chunking_dim:'auto'})\n",
    "\n",
    "    return ds, control\n",
    "\n",
    "ds, control = gen_pm()"
   ]
  },
  {
   "cell_type": "markdown",
   "metadata": {},
   "source": [
    "## `verify()`"
   ]
  },
  {
   "cell_type": "code",
   "execution_count": 8,
   "metadata": {},
   "outputs": [],
   "source": [
    "from climpred import PerfectModelEnsemble\n",
    "pm = PerfectModelEnsemble(ds).add_control(control)"
   ]
  },
  {
   "cell_type": "code",
   "execution_count": 20,
   "metadata": {},
   "outputs": [],
   "source": [
    "cp_kwargs = {'metric': 'mae', 'comparison':'m2e', 'dim':['init']}"
   ]
  },
  {
   "cell_type": "code",
   "execution_count": 10,
   "metadata": {},
   "outputs": [
    {
     "data": {
      "text/html": [
       "<table>\n",
       "<tr>\n",
       "<td>\n",
       "<table>\n",
       "  <thead>\n",
       "    <tr><td> </td><th> Array </th><th> Chunk </th></tr>\n",
       "  </thead>\n",
       "  <tbody>\n",
       "    <tr><th> Bytes </th><td> 12.44 MB </td> <td> 12.44 MB </td></tr>\n",
       "    <tr><th> Shape </th><td> (10, 12, 5, 72, 36) </td> <td> (10, 12, 5, 72, 36) </td></tr>\n",
       "    <tr><th> Count </th><td> 1 Tasks </td><td> 1 Chunks </td></tr>\n",
       "    <tr><th> Type </th><td> float64 </td><td> numpy.ndarray </td></tr>\n",
       "  </tbody>\n",
       "</table>\n",
       "</td>\n",
       "<td>\n",
       "<svg width=\"353\" height=\"191\" style=\"stroke:rgb(0,0,0);stroke-width:1\" >\n",
       "\n",
       "  <!-- Horizontal lines -->\n",
       "  <line x1=\"0\" y1=\"0\" x2=\"41\" y2=\"0\" style=\"stroke-width:2\" />\n",
       "  <line x1=\"0\" y1=\"40\" x2=\"41\" y2=\"40\" style=\"stroke-width:2\" />\n",
       "\n",
       "  <!-- Vertical lines -->\n",
       "  <line x1=\"0\" y1=\"0\" x2=\"0\" y2=\"40\" style=\"stroke-width:2\" />\n",
       "  <line x1=\"41\" y1=\"0\" x2=\"41\" y2=\"40\" style=\"stroke-width:2\" />\n",
       "\n",
       "  <!-- Colored Rectangle -->\n",
       "  <polygon points=\"0.0,0.0 41.20382942136741,0.0 41.20382942136741,40.328955679569724 0.0,40.328955679569724\" style=\"fill:#ECB172A0;stroke-width:0\"/>\n",
       "\n",
       "  <!-- Text -->\n",
       "  <text x=\"20.601915\" y=\"60.328956\" font-size=\"1.0rem\" font-weight=\"100\" text-anchor=\"middle\" >12</text>\n",
       "  <text x=\"61.203829\" y=\"20.164478\" font-size=\"1.0rem\" font-weight=\"100\" text-anchor=\"middle\" transform=\"rotate(0,61.203829,20.164478)\">10</text>\n",
       "\n",
       "\n",
       "  <!-- Horizontal lines -->\n",
       "  <line x1=\"111\" y1=\"0\" x2=\"132\" y2=\"21\" style=\"stroke-width:2\" />\n",
       "  <line x1=\"111\" y1=\"120\" x2=\"132\" y2=\"141\" style=\"stroke-width:2\" />\n",
       "\n",
       "  <!-- Vertical lines -->\n",
       "  <line x1=\"111\" y1=\"0\" x2=\"111\" y2=\"120\" style=\"stroke-width:2\" />\n",
       "  <line x1=\"132\" y1=\"21\" x2=\"132\" y2=\"141\" style=\"stroke-width:2\" />\n",
       "\n",
       "  <!-- Colored Rectangle -->\n",
       "  <polygon points=\"111.0,0.0 132.46581765509853,21.46581765509852 132.46581765509853,141.46581765509853 111.0,120.0\" style=\"fill:#ECB172A0;stroke-width:0\"/>\n",
       "\n",
       "  <!-- Horizontal lines -->\n",
       "  <line x1=\"111\" y1=\"0\" x2=\"171\" y2=\"0\" style=\"stroke-width:2\" />\n",
       "  <line x1=\"132\" y1=\"21\" x2=\"192\" y2=\"21\" style=\"stroke-width:2\" />\n",
       "\n",
       "  <!-- Vertical lines -->\n",
       "  <line x1=\"111\" y1=\"0\" x2=\"132\" y2=\"21\" style=\"stroke-width:2\" />\n",
       "  <line x1=\"171\" y1=\"0\" x2=\"192\" y2=\"21\" style=\"stroke-width:2\" />\n",
       "\n",
       "  <!-- Colored Rectangle -->\n",
       "  <polygon points=\"111.0,0.0 171.0,0.0 192.46581765509853,21.46581765509852 132.46581765509853,21.46581765509852\" style=\"fill:#ECB172A0;stroke-width:0\"/>\n",
       "\n",
       "  <!-- Horizontal lines -->\n",
       "  <line x1=\"132\" y1=\"21\" x2=\"192\" y2=\"21\" style=\"stroke-width:2\" />\n",
       "  <line x1=\"132\" y1=\"141\" x2=\"192\" y2=\"141\" style=\"stroke-width:2\" />\n",
       "\n",
       "  <!-- Vertical lines -->\n",
       "  <line x1=\"132\" y1=\"21\" x2=\"132\" y2=\"141\" style=\"stroke-width:2\" />\n",
       "  <line x1=\"192\" y1=\"21\" x2=\"192\" y2=\"141\" style=\"stroke-width:2\" />\n",
       "\n",
       "  <!-- Colored Rectangle -->\n",
       "  <polygon points=\"132.46581765509853,21.46581765509852 192.46581765509853,21.46581765509852 192.46581765509853,141.46581765509853 132.46581765509853,141.46581765509853\" style=\"fill:#ECB172A0;stroke-width:0\"/>\n",
       "\n",
       "  <!-- Text -->\n",
       "  <text x=\"162.465818\" y=\"161.465818\" font-size=\"1.0rem\" font-weight=\"100\" text-anchor=\"middle\" >36</text>\n",
       "  <text x=\"212.465818\" y=\"81.465818\" font-size=\"1.0rem\" font-weight=\"100\" text-anchor=\"middle\" transform=\"rotate(0,212.465818,81.465818)\">72</text>\n",
       "  <text x=\"111.732909\" y=\"150.732909\" font-size=\"1.0rem\" font-weight=\"100\" text-anchor=\"middle\" transform=\"rotate(45,111.732909,150.732909)\">5</text>\n",
       "</svg>\n",
       "</td>\n",
       "</tr>\n",
       "</table>"
      ],
      "text/plain": [
       "dask.array<xarray-<this-array>, shape=(10, 12, 5, 72, 36), dtype=float64, chunksize=(10, 12, 5, 72, 36), chunktype=numpy.ndarray>"
      ]
     },
     "execution_count": 10,
     "metadata": {},
     "output_type": "execute_result"
    }
   ],
   "source": [
    "pm.get_initialized()['var'].data"
   ]
  },
  {
   "cell_type": "code",
   "execution_count": 21,
   "metadata": {},
   "outputs": [
    {
     "name": "stdout",
     "output_type": "stream",
     "text": [
      "CPU times: user 216 ms, sys: 1.12 ms, total: 217 ms\n",
      "Wall time: 354 ms\n"
     ]
    },
    {
     "data": {
      "text/html": [
       "<table>\n",
       "<tr>\n",
       "<td>\n",
       "<table>\n",
       "  <thead>\n",
       "    <tr><td> </td><th> Array </th><th> Chunk </th></tr>\n",
       "  </thead>\n",
       "  <tbody>\n",
       "    <tr><th> Bytes </th><td> 1.04 MB </td> <td> 1.04 MB </td></tr>\n",
       "    <tr><th> Shape </th><td> (36, 5, 72, 10) </td> <td> (36, 5, 72, 10) </td></tr>\n",
       "    <tr><th> Count </th><td> 109 Tasks </td><td> 1 Chunks </td></tr>\n",
       "    <tr><th> Type </th><td> float64 </td><td> numpy.ndarray </td></tr>\n",
       "  </tbody>\n",
       "</table>\n",
       "</td>\n",
       "<td>\n",
       "<svg width=\"371\" height=\"191\" style=\"stroke:rgb(0,0,0);stroke-width:1\" >\n",
       "\n",
       "  <!-- Horizontal lines -->\n",
       "  <line x1=\"0\" y1=\"0\" x2=\"60\" y2=\"0\" style=\"stroke-width:2\" />\n",
       "  <line x1=\"0\" y1=\"27\" x2=\"60\" y2=\"27\" style=\"stroke-width:2\" />\n",
       "\n",
       "  <!-- Vertical lines -->\n",
       "  <line x1=\"0\" y1=\"0\" x2=\"0\" y2=\"27\" style=\"stroke-width:2\" />\n",
       "  <line x1=\"60\" y1=\"0\" x2=\"60\" y2=\"27\" style=\"stroke-width:2\" />\n",
       "\n",
       "  <!-- Colored Rectangle -->\n",
       "  <polygon points=\"0.0,0.0 60.0,0.0 60.0,27.054035963169408 0.0,27.054035963169408\" style=\"fill:#ECB172A0;stroke-width:0\"/>\n",
       "\n",
       "  <!-- Text -->\n",
       "  <text x=\"30.000000\" y=\"47.054036\" font-size=\"1.0rem\" font-weight=\"100\" text-anchor=\"middle\" >36</text>\n",
       "  <text x=\"80.000000\" y=\"13.527018\" font-size=\"1.0rem\" font-weight=\"100\" text-anchor=\"middle\" transform=\"rotate(0,80.000000,13.527018)\">1</text>\n",
       "\n",
       "\n",
       "  <!-- Horizontal lines -->\n",
       "  <line x1=\"130\" y1=\"0\" x2=\"151\" y2=\"21\" style=\"stroke-width:2\" />\n",
       "  <line x1=\"130\" y1=\"120\" x2=\"151\" y2=\"141\" style=\"stroke-width:2\" />\n",
       "\n",
       "  <!-- Vertical lines -->\n",
       "  <line x1=\"130\" y1=\"0\" x2=\"130\" y2=\"120\" style=\"stroke-width:2\" />\n",
       "  <line x1=\"151\" y1=\"21\" x2=\"151\" y2=\"141\" style=\"stroke-width:2\" />\n",
       "\n",
       "  <!-- Colored Rectangle -->\n",
       "  <polygon points=\"130.0,0.0 151.46581765509853,21.46581765509852 151.46581765509853,141.46581765509853 130.0,120.0\" style=\"fill:#ECB172A0;stroke-width:0\"/>\n",
       "\n",
       "  <!-- Horizontal lines -->\n",
       "  <line x1=\"130\" y1=\"0\" x2=\"170\" y2=\"0\" style=\"stroke-width:2\" />\n",
       "  <line x1=\"151\" y1=\"21\" x2=\"191\" y2=\"21\" style=\"stroke-width:2\" />\n",
       "\n",
       "  <!-- Vertical lines -->\n",
       "  <line x1=\"130\" y1=\"0\" x2=\"151\" y2=\"21\" style=\"stroke-width:2\" />\n",
       "  <line x1=\"170\" y1=\"0\" x2=\"191\" y2=\"21\" style=\"stroke-width:2\" />\n",
       "\n",
       "  <!-- Colored Rectangle -->\n",
       "  <polygon points=\"130.0,0.0 170.32895567956973,0.0 191.79477333466826,21.46581765509852 151.46581765509853,21.46581765509852\" style=\"fill:#ECB172A0;stroke-width:0\"/>\n",
       "\n",
       "  <!-- Horizontal lines -->\n",
       "  <line x1=\"151\" y1=\"21\" x2=\"191\" y2=\"21\" style=\"stroke-width:2\" />\n",
       "  <line x1=\"151\" y1=\"141\" x2=\"191\" y2=\"141\" style=\"stroke-width:2\" />\n",
       "\n",
       "  <!-- Vertical lines -->\n",
       "  <line x1=\"151\" y1=\"21\" x2=\"151\" y2=\"141\" style=\"stroke-width:2\" />\n",
       "  <line x1=\"191\" y1=\"21\" x2=\"191\" y2=\"141\" style=\"stroke-width:2\" />\n",
       "\n",
       "  <!-- Colored Rectangle -->\n",
       "  <polygon points=\"151.46581765509853,21.46581765509852 191.79477333466826,21.46581765509852 191.79477333466826,141.46581765509853 151.46581765509853,141.46581765509853\" style=\"fill:#ECB172A0;stroke-width:0\"/>\n",
       "\n",
       "  <!-- Text -->\n",
       "  <text x=\"171.630295\" y=\"161.465818\" font-size=\"1.0rem\" font-weight=\"100\" text-anchor=\"middle\" >10</text>\n",
       "  <text x=\"211.794773\" y=\"81.465818\" font-size=\"1.0rem\" font-weight=\"100\" text-anchor=\"middle\" transform=\"rotate(0,211.794773,81.465818)\">72</text>\n",
       "  <text x=\"130.732909\" y=\"150.732909\" font-size=\"1.0rem\" font-weight=\"100\" text-anchor=\"middle\" transform=\"rotate(45,130.732909,150.732909)\">5</text>\n",
       "</svg>\n",
       "</td>\n",
       "</tr>\n",
       "</table>"
      ],
      "text/plain": [
       "dask.array<transpose, shape=(36, 5, 72, 10), dtype=float64, chunksize=(36, 5, 72, 10), chunktype=numpy.ndarray>"
      ]
     },
     "execution_count": 21,
     "metadata": {},
     "output_type": "execute_result"
    }
   ],
   "source": [
    "%time skill = pm.verify(**cp_kwargs)\n",
    "skill['var'].data"
   ]
  },
  {
   "cell_type": "code",
   "execution_count": null,
   "metadata": {},
   "outputs": [],
   "source": [
    "%time skillc = skill.compute()"
   ]
  },
  {
   "cell_type": "markdown",
   "metadata": {},
   "source": [
    "## `bootstrap()`\n",
    "\n",
    "Bootstrap significant skill"
   ]
  },
  {
   "cell_type": "code",
   "execution_count": 24,
   "metadata": {},
   "outputs": [],
   "source": [
    "iterations=100"
   ]
  },
  {
   "cell_type": "code",
   "execution_count": 30,
   "metadata": {},
   "outputs": [
    {
     "name": "stderr",
     "output_type": "stream",
     "text": [
      "/srv/conda/envs/notebook/lib/python3.7/site-packages/climpred/checks.py:243: UserWarning: Chunking might not bring parallelized performance increase, because only few CPUs available, found 2 CPUs.\n",
      "  f\"Chunking might not bring parallelized performance increase, \"\n"
     ]
    },
    {
     "name": "stdout",
     "output_type": "stream",
     "text": [
      "CPU times: user 2.71 s, sys: 247 ms, total: 2.95 s\n",
      "Wall time: 3.57 s\n"
     ]
    },
    {
     "data": {
      "text/html": [
       "<table>\n",
       "<tr>\n",
       "<td>\n",
       "<table>\n",
       "  <thead>\n",
       "    <tr><td> </td><th> Array </th><th> Chunk </th></tr>\n",
       "  </thead>\n",
       "  <tbody>\n",
       "    <tr><th> Bytes </th><td> 829.44 kB </td> <td> 207.36 kB </td></tr>\n",
       "    <tr><th> Shape </th><td> (4, 2, 36, 5, 72) </td> <td> (2, 1, 36, 5, 72) </td></tr>\n",
       "    <tr><th> Count </th><td> 13080 Tasks </td><td> 6 Chunks </td></tr>\n",
       "    <tr><th> Type </th><td> float64 </td><td> numpy.ndarray </td></tr>\n",
       "  </tbody>\n",
       "</table>\n",
       "</td>\n",
       "<td>\n",
       "<svg width=\"405\" height=\"121\" style=\"stroke:rgb(0,0,0);stroke-width:1\" >\n",
       "\n",
       "  <!-- Horizontal lines -->\n",
       "  <line x1=\"0\" y1=\"0\" x2=\"30\" y2=\"0\" style=\"stroke-width:2\" />\n",
       "  <line x1=\"0\" y1=\"8\" x2=\"30\" y2=\"8\" />\n",
       "  <line x1=\"0\" y1=\"17\" x2=\"30\" y2=\"17\" />\n",
       "  <line x1=\"0\" y1=\"35\" x2=\"30\" y2=\"35\" style=\"stroke-width:2\" />\n",
       "\n",
       "  <!-- Vertical lines -->\n",
       "  <line x1=\"0\" y1=\"0\" x2=\"0\" y2=\"35\" style=\"stroke-width:2\" />\n",
       "  <line x1=\"15\" y1=\"0\" x2=\"15\" y2=\"35\" />\n",
       "  <line x1=\"30\" y1=\"0\" x2=\"30\" y2=\"35\" style=\"stroke-width:2\" />\n",
       "\n",
       "  <!-- Colored Rectangle -->\n",
       "  <polygon points=\"0.0,0.0 30.931822596185057,0.0 30.931822596185057,35.14482853053541 0.0,35.14482853053541\" style=\"fill:#ECB172A0;stroke-width:0\"/>\n",
       "\n",
       "  <!-- Text -->\n",
       "  <text x=\"15.465911\" y=\"55.144829\" font-size=\"1.0rem\" font-weight=\"100\" text-anchor=\"middle\" >2</text>\n",
       "  <text x=\"50.931823\" y=\"17.572414\" font-size=\"1.0rem\" font-weight=\"100\" text-anchor=\"middle\" transform=\"rotate(0,50.931823,17.572414)\">4</text>\n",
       "\n",
       "\n",
       "  <!-- Horizontal lines -->\n",
       "  <line x1=\"100\" y1=\"0\" x2=\"135\" y2=\"35\" style=\"stroke-width:2\" />\n",
       "  <line x1=\"100\" y1=\"36\" x2=\"135\" y2=\"71\" style=\"stroke-width:2\" />\n",
       "\n",
       "  <!-- Vertical lines -->\n",
       "  <line x1=\"100\" y1=\"0\" x2=\"100\" y2=\"36\" style=\"stroke-width:2\" />\n",
       "  <line x1=\"135\" y1=\"35\" x2=\"135\" y2=\"71\" style=\"stroke-width:2\" />\n",
       "\n",
       "  <!-- Colored Rectangle -->\n",
       "  <polygon points=\"100.0,0.0 135.29411764705884,35.294117647058826 135.29411764705884,71.78600766072631 100.0,36.49189001366748\" style=\"fill:#ECB172A0;stroke-width:0\"/>\n",
       "\n",
       "  <!-- Horizontal lines -->\n",
       "  <line x1=\"100\" y1=\"0\" x2=\"220\" y2=\"0\" style=\"stroke-width:2\" />\n",
       "  <line x1=\"135\" y1=\"35\" x2=\"255\" y2=\"35\" style=\"stroke-width:2\" />\n",
       "\n",
       "  <!-- Vertical lines -->\n",
       "  <line x1=\"100\" y1=\"0\" x2=\"135\" y2=\"35\" style=\"stroke-width:2\" />\n",
       "  <line x1=\"220\" y1=\"0\" x2=\"255\" y2=\"35\" style=\"stroke-width:2\" />\n",
       "\n",
       "  <!-- Colored Rectangle -->\n",
       "  <polygon points=\"100.0,0.0 220.0,0.0 255.29411764705884,35.294117647058826 135.29411764705884,35.294117647058826\" style=\"fill:#ECB172A0;stroke-width:0\"/>\n",
       "\n",
       "  <!-- Horizontal lines -->\n",
       "  <line x1=\"135\" y1=\"35\" x2=\"255\" y2=\"35\" style=\"stroke-width:2\" />\n",
       "  <line x1=\"135\" y1=\"71\" x2=\"255\" y2=\"71\" style=\"stroke-width:2\" />\n",
       "\n",
       "  <!-- Vertical lines -->\n",
       "  <line x1=\"135\" y1=\"35\" x2=\"135\" y2=\"71\" style=\"stroke-width:2\" />\n",
       "  <line x1=\"255\" y1=\"35\" x2=\"255\" y2=\"71\" style=\"stroke-width:2\" />\n",
       "\n",
       "  <!-- Colored Rectangle -->\n",
       "  <polygon points=\"135.29411764705884,35.294117647058826 255.29411764705884,35.294117647058826 255.29411764705884,71.78600766072631 135.29411764705884,71.78600766072631\" style=\"fill:#ECB172A0;stroke-width:0\"/>\n",
       "\n",
       "  <!-- Text -->\n",
       "  <text x=\"195.294118\" y=\"91.786008\" font-size=\"1.0rem\" font-weight=\"100\" text-anchor=\"middle\" >72</text>\n",
       "  <text x=\"275.294118\" y=\"53.540063\" font-size=\"1.0rem\" font-weight=\"100\" text-anchor=\"middle\" transform=\"rotate(0,275.294118,53.540063)\">5</text>\n",
       "  <text x=\"107.647059\" y=\"74.138949\" font-size=\"1.0rem\" font-weight=\"100\" text-anchor=\"middle\" transform=\"rotate(45,107.647059,74.138949)\">36</text>\n",
       "</svg>\n",
       "</td>\n",
       "</tr>\n",
       "</table>"
      ],
      "text/plain": [
       "dask.array<concatenate, shape=(4, 2, 36, 5, 72), dtype=float64, chunksize=(2, 1, 36, 5, 72), chunktype=numpy.ndarray>"
      ]
     },
     "execution_count": 30,
     "metadata": {},
     "output_type": "execute_result"
    }
   ],
   "source": [
    "%%time\n",
    "bskill = pm.bootstrap(**cp_kwargs, iterations=iterations, reference='uninitialized')\n",
    "bskill['var'].data"
   ]
  },
  {
   "cell_type": "code",
   "execution_count": null,
   "metadata": {},
   "outputs": [],
   "source": [
    "improved_by_init = bskill.sel(results='p', skill='uninitialized') <= 0.05\n",
    "%time improved_by_init_c = improved_by_init.compute()"
   ]
  },
  {
   "cell_type": "markdown",
   "metadata": {},
   "source": [
    "# `HindcastEnsemble`"
   ]
  },
  {
   "cell_type": "markdown",
   "metadata": {},
   "source": [
    "## fake data"
   ]
  },
  {
   "cell_type": "code",
   "execution_count": 33,
   "metadata": {},
   "outputs": [],
   "source": [
    "def gen_hind(degree=5,nmember=34,nlead=10, chunking_dim='lon'):\n",
    "    hind = xr.Dataset()\n",
    "    observations = xr.Dataset()\n",
    "    uninit=xr.Dataset()\n",
    "    nx = 360//degree\n",
    "    ny = 180//degree\n",
    "    init_start = 1960\n",
    "    init_end = 2015\n",
    "    ninit = init_end - init_start\n",
    "\n",
    "    times = xr.cftime_range(\n",
    "        start=str(init_start),\n",
    "        periods=ninit,\n",
    "        freq='YS',\n",
    "        calendar='noleap',\n",
    "    )\n",
    "    leads = np.arange(1, 1 + nlead)\n",
    "    members = np.arange(1, 1 + nmember)\n",
    "    inits = xr.cftime_range(\n",
    "        start=str(init_start), end=str(init_end-1),\n",
    "        freq='YS',\n",
    "    )\n",
    "\n",
    "    lons = xr.DataArray(\n",
    "        np.linspace(0.5, 359.5, nx),\n",
    "        dims=('lon',),\n",
    "        attrs={'units': 'degrees east', 'long_name': 'longitude'},\n",
    "    )\n",
    "    lats = xr.DataArray(\n",
    "        np.linspace(-89.5, 89.5, ny),\n",
    "        dims=('lat',),\n",
    "        attrs={'units': 'degrees north', 'long_name': 'latitude'},\n",
    "    )\n",
    "    hind['var'] = xr.DataArray(\n",
    "                np.random.random(\n",
    "                    (nmember, ninit, nlead, nx, ny),\n",
    "                ),\n",
    "                coords={\n",
    "                    'member': members,\n",
    "                    'init': inits,\n",
    "                    'lon': lons,\n",
    "                    'lat': lats,\n",
    "                    'lead': leads,\n",
    "                },\n",
    "                dims=('member', 'init', 'lead', 'lon', 'lat'),\n",
    "                name='var',)\n",
    "\n",
    "    observations['var'] = xr.DataArray(\n",
    "                np.random.random((ninit, nx, ny)),\n",
    "                coords={'lon': lons, 'lat': lats, 'time': inits},\n",
    "                dims=('time', 'lon', 'lat'),\n",
    "                name='var',\n",
    "                attrs={'units': 'var units', 'description': 'a description'},\n",
    "            )\n",
    "    uninit['var'] = xr.DataArray(\n",
    "                np.random.random((ninit, nx, ny, nmember)),\n",
    "                coords={'lon': lons, 'lat': lats, 'time': inits, 'member': members},\n",
    "                dims=('time', 'lon', 'lat', 'member'),\n",
    "                name='var')\n",
    "\n",
    "    if chunking_dim is not None:\n",
    "        observations=observations.chunk({chunking_dim:'auto'})\n",
    "        uninit=uninit.chunk({chunking_dim:'auto'})\n",
    "        hind=hind.chunk({chunking_dim:'auto'})\n",
    "        hind=hind.chunk({'lon':-1})\n",
    "        hind=hind.chunk({'lead':1})\n",
    "\n",
    "    observations=observations['var']\n",
    "    uninit=uninit['var']\n",
    "    hind=hind['var']\n",
    "    hind.lead.attrs['units'] = 'years'\n",
    "\n",
    "    return hind,uninit,observations\n",
    "\n",
    "hind,hist,obs = gen_hind()"
   ]
  },
  {
   "cell_type": "markdown",
   "metadata": {},
   "source": [
    "## `verify()`"
   ]
  },
  {
   "cell_type": "code",
   "execution_count": 34,
   "metadata": {},
   "outputs": [],
   "source": [
    "from climpred import HindcastEnsemble\n",
    "hindcast = HindcastEnsemble(hind).add_uninitialized(hist).add_observations(obs)"
   ]
  },
  {
   "cell_type": "code",
   "execution_count": 35,
   "metadata": {},
   "outputs": [],
   "source": [
    "cp_kwargs = {'metric': 'mae', 'comparison':'e2r', 'dim':'init', 'alignment':'same_verifs'}"
   ]
  },
  {
   "cell_type": "code",
   "execution_count": 36,
   "metadata": {},
   "outputs": [
    {
     "data": {
      "text/html": [
       "<table>\n",
       "<tr>\n",
       "<td>\n",
       "<table>\n",
       "  <thead>\n",
       "    <tr><td> </td><th> Array </th><th> Chunk </th></tr>\n",
       "  </thead>\n",
       "  <tbody>\n",
       "    <tr><th> Bytes </th><td> 387.76 MB </td> <td> 38.78 MB </td></tr>\n",
       "    <tr><th> Shape </th><td> (34, 55, 10, 72, 36) </td> <td> (34, 55, 1, 72, 36) </td></tr>\n",
       "    <tr><th> Count </th><td> 24 Tasks </td><td> 10 Chunks </td></tr>\n",
       "    <tr><th> Type </th><td> float64 </td><td> numpy.ndarray </td></tr>\n",
       "  </tbody>\n",
       "</table>\n",
       "</td>\n",
       "<td>\n",
       "<svg width=\"455\" height=\"193\" style=\"stroke:rgb(0,0,0);stroke-width:1\" >\n",
       "\n",
       "  <!-- Horizontal lines -->\n",
       "  <line x1=\"0\" y1=\"0\" x2=\"91\" y2=\"0\" style=\"stroke-width:2\" />\n",
       "  <line x1=\"0\" y1=\"56\" x2=\"91\" y2=\"56\" style=\"stroke-width:2\" />\n",
       "\n",
       "  <!-- Vertical lines -->\n",
       "  <line x1=\"0\" y1=\"0\" x2=\"0\" y2=\"56\" style=\"stroke-width:2\" />\n",
       "  <line x1=\"91\" y1=\"0\" x2=\"91\" y2=\"56\" style=\"stroke-width:2\" />\n",
       "\n",
       "  <!-- Colored Rectangle -->\n",
       "  <polygon points=\"0.0,0.0 91.66666666666667,0.0 91.66666666666667,56.666666666666664 0.0,56.666666666666664\" style=\"fill:#ECB172A0;stroke-width:0\"/>\n",
       "\n",
       "  <!-- Text -->\n",
       "  <text x=\"45.833333\" y=\"76.666667\" font-size=\"1.0rem\" font-weight=\"100\" text-anchor=\"middle\" >55</text>\n",
       "  <text x=\"111.666667\" y=\"28.333333\" font-size=\"1.0rem\" font-weight=\"100\" text-anchor=\"middle\" transform=\"rotate(0,111.666667,28.333333)\">34</text>\n",
       "\n",
       "\n",
       "  <!-- Horizontal lines -->\n",
       "  <line x1=\"161\" y1=\"0\" x2=\"184\" y2=\"23\" style=\"stroke-width:2\" />\n",
       "  <line x1=\"161\" y1=\"120\" x2=\"184\" y2=\"143\" style=\"stroke-width:2\" />\n",
       "\n",
       "  <!-- Vertical lines -->\n",
       "  <line x1=\"161\" y1=\"0\" x2=\"161\" y2=\"120\" style=\"stroke-width:2\" />\n",
       "  <line x1=\"163\" y1=\"2\" x2=\"163\" y2=\"122\" />\n",
       "  <line x1=\"165\" y1=\"4\" x2=\"165\" y2=\"124\" />\n",
       "  <line x1=\"168\" y1=\"7\" x2=\"168\" y2=\"127\" />\n",
       "  <line x1=\"170\" y1=\"9\" x2=\"170\" y2=\"129\" />\n",
       "  <line x1=\"172\" y1=\"11\" x2=\"172\" y2=\"131\" />\n",
       "  <line x1=\"175\" y1=\"14\" x2=\"175\" y2=\"134\" />\n",
       "  <line x1=\"177\" y1=\"16\" x2=\"177\" y2=\"136\" />\n",
       "  <line x1=\"179\" y1=\"18\" x2=\"179\" y2=\"138\" />\n",
       "  <line x1=\"182\" y1=\"21\" x2=\"182\" y2=\"141\" />\n",
       "  <line x1=\"184\" y1=\"23\" x2=\"184\" y2=\"143\" style=\"stroke-width:2\" />\n",
       "\n",
       "  <!-- Colored Rectangle -->\n",
       "  <polygon points=\"161.0,0.0 184.72291510562926,23.72291510562925 184.72291510562926,143.72291510562926 161.0,120.0\" style=\"fill:#ECB172A0;stroke-width:0\"/>\n",
       "\n",
       "  <!-- Horizontal lines -->\n",
       "  <line x1=\"161\" y1=\"0\" x2=\"221\" y2=\"0\" style=\"stroke-width:2\" />\n",
       "  <line x1=\"163\" y1=\"2\" x2=\"223\" y2=\"2\" />\n",
       "  <line x1=\"165\" y1=\"4\" x2=\"225\" y2=\"4\" />\n",
       "  <line x1=\"168\" y1=\"7\" x2=\"228\" y2=\"7\" />\n",
       "  <line x1=\"170\" y1=\"9\" x2=\"230\" y2=\"9\" />\n",
       "  <line x1=\"172\" y1=\"11\" x2=\"232\" y2=\"11\" />\n",
       "  <line x1=\"175\" y1=\"14\" x2=\"235\" y2=\"14\" />\n",
       "  <line x1=\"177\" y1=\"16\" x2=\"237\" y2=\"16\" />\n",
       "  <line x1=\"179\" y1=\"18\" x2=\"239\" y2=\"18\" />\n",
       "  <line x1=\"182\" y1=\"21\" x2=\"242\" y2=\"21\" />\n",
       "  <line x1=\"184\" y1=\"23\" x2=\"244\" y2=\"23\" style=\"stroke-width:2\" />\n",
       "\n",
       "  <!-- Vertical lines -->\n",
       "  <line x1=\"161\" y1=\"0\" x2=\"184\" y2=\"23\" style=\"stroke-width:2\" />\n",
       "  <line x1=\"221\" y1=\"0\" x2=\"244\" y2=\"23\" style=\"stroke-width:2\" />\n",
       "\n",
       "  <!-- Colored Rectangle -->\n",
       "  <polygon points=\"161.0,0.0 221.0,0.0 244.72291510562926,23.72291510562925 184.72291510562926,23.72291510562925\" style=\"fill:#ECB172A0;stroke-width:0\"/>\n",
       "\n",
       "  <!-- Horizontal lines -->\n",
       "  <line x1=\"184\" y1=\"23\" x2=\"244\" y2=\"23\" style=\"stroke-width:2\" />\n",
       "  <line x1=\"184\" y1=\"143\" x2=\"244\" y2=\"143\" style=\"stroke-width:2\" />\n",
       "\n",
       "  <!-- Vertical lines -->\n",
       "  <line x1=\"184\" y1=\"23\" x2=\"184\" y2=\"143\" style=\"stroke-width:2\" />\n",
       "  <line x1=\"244\" y1=\"23\" x2=\"244\" y2=\"143\" style=\"stroke-width:2\" />\n",
       "\n",
       "  <!-- Colored Rectangle -->\n",
       "  <polygon points=\"184.72291510562926,23.72291510562925 244.72291510562926,23.72291510562925 244.72291510562926,143.72291510562926 184.72291510562926,143.72291510562926\" style=\"fill:#ECB172A0;stroke-width:0\"/>\n",
       "\n",
       "  <!-- Text -->\n",
       "  <text x=\"214.722915\" y=\"163.722915\" font-size=\"1.0rem\" font-weight=\"100\" text-anchor=\"middle\" >36</text>\n",
       "  <text x=\"264.722915\" y=\"83.722915\" font-size=\"1.0rem\" font-weight=\"100\" text-anchor=\"middle\" transform=\"rotate(0,264.722915,83.722915)\">72</text>\n",
       "  <text x=\"162.861458\" y=\"151.861458\" font-size=\"1.0rem\" font-weight=\"100\" text-anchor=\"middle\" transform=\"rotate(45,162.861458,151.861458)\">10</text>\n",
       "</svg>\n",
       "</td>\n",
       "</tr>\n",
       "</table>"
      ],
      "text/plain": [
       "dask.array<rechunk-merge, shape=(34, 55, 10, 72, 36), dtype=float64, chunksize=(34, 55, 1, 72, 36), chunktype=numpy.ndarray>"
      ]
     },
     "execution_count": 36,
     "metadata": {},
     "output_type": "execute_result"
    }
   ],
   "source": [
    "hindcast.get_initialized()['var'].data"
   ]
  },
  {
   "cell_type": "code",
   "execution_count": 38,
   "metadata": {},
   "outputs": [
    {
     "name": "stdout",
     "output_type": "stream",
     "text": [
      "CPU times: user 554 ms, sys: 1.81 ms, total: 556 ms\n",
      "Wall time: 634 ms\n"
     ]
    },
    {
     "data": {
      "text/html": [
       "<table>\n",
       "<tr>\n",
       "<td>\n",
       "<table>\n",
       "  <thead>\n",
       "    <tr><td> </td><th> Array </th><th> Chunk </th></tr>\n",
       "  </thead>\n",
       "  <tbody>\n",
       "    <tr><th> Bytes </th><td> 207.36 kB </td> <td> 20.74 kB </td></tr>\n",
       "    <tr><th> Shape </th><td> (10, 36, 72) </td> <td> (1, 36, 72) </td></tr>\n",
       "    <tr><th> Count </th><td> 149 Tasks </td><td> 10 Chunks </td></tr>\n",
       "    <tr><th> Type </th><td> float64 </td><td> numpy.ndarray </td></tr>\n",
       "  </tbody>\n",
       "</table>\n",
       "</td>\n",
       "<td>\n",
       "<svg width=\"203\" height=\"133\" style=\"stroke:rgb(0,0,0);stroke-width:1\" >\n",
       "\n",
       "  <!-- Horizontal lines -->\n",
       "  <line x1=\"10\" y1=\"0\" x2=\"33\" y2=\"23\" style=\"stroke-width:2\" />\n",
       "  <line x1=\"10\" y1=\"60\" x2=\"33\" y2=\"83\" style=\"stroke-width:2\" />\n",
       "\n",
       "  <!-- Vertical lines -->\n",
       "  <line x1=\"10\" y1=\"0\" x2=\"10\" y2=\"60\" style=\"stroke-width:2\" />\n",
       "  <line x1=\"12\" y1=\"2\" x2=\"12\" y2=\"62\" />\n",
       "  <line x1=\"14\" y1=\"4\" x2=\"14\" y2=\"64\" />\n",
       "  <line x1=\"17\" y1=\"7\" x2=\"17\" y2=\"67\" />\n",
       "  <line x1=\"19\" y1=\"9\" x2=\"19\" y2=\"69\" />\n",
       "  <line x1=\"21\" y1=\"11\" x2=\"21\" y2=\"71\" />\n",
       "  <line x1=\"24\" y1=\"14\" x2=\"24\" y2=\"74\" />\n",
       "  <line x1=\"26\" y1=\"16\" x2=\"26\" y2=\"76\" />\n",
       "  <line x1=\"28\" y1=\"18\" x2=\"28\" y2=\"78\" />\n",
       "  <line x1=\"31\" y1=\"21\" x2=\"31\" y2=\"81\" />\n",
       "  <line x1=\"33\" y1=\"23\" x2=\"33\" y2=\"83\" style=\"stroke-width:2\" />\n",
       "\n",
       "  <!-- Colored Rectangle -->\n",
       "  <polygon points=\"10.0,0.0 33.722915105629255,23.72291510562925 33.722915105629255,83.72291510562926 10.0,60.0\" style=\"fill:#ECB172A0;stroke-width:0\"/>\n",
       "\n",
       "  <!-- Horizontal lines -->\n",
       "  <line x1=\"10\" y1=\"0\" x2=\"130\" y2=\"0\" style=\"stroke-width:2\" />\n",
       "  <line x1=\"12\" y1=\"2\" x2=\"132\" y2=\"2\" />\n",
       "  <line x1=\"14\" y1=\"4\" x2=\"134\" y2=\"4\" />\n",
       "  <line x1=\"17\" y1=\"7\" x2=\"137\" y2=\"7\" />\n",
       "  <line x1=\"19\" y1=\"9\" x2=\"139\" y2=\"9\" />\n",
       "  <line x1=\"21\" y1=\"11\" x2=\"141\" y2=\"11\" />\n",
       "  <line x1=\"24\" y1=\"14\" x2=\"144\" y2=\"14\" />\n",
       "  <line x1=\"26\" y1=\"16\" x2=\"146\" y2=\"16\" />\n",
       "  <line x1=\"28\" y1=\"18\" x2=\"148\" y2=\"18\" />\n",
       "  <line x1=\"31\" y1=\"21\" x2=\"151\" y2=\"21\" />\n",
       "  <line x1=\"33\" y1=\"23\" x2=\"153\" y2=\"23\" style=\"stroke-width:2\" />\n",
       "\n",
       "  <!-- Vertical lines -->\n",
       "  <line x1=\"10\" y1=\"0\" x2=\"33\" y2=\"23\" style=\"stroke-width:2\" />\n",
       "  <line x1=\"130\" y1=\"0\" x2=\"153\" y2=\"23\" style=\"stroke-width:2\" />\n",
       "\n",
       "  <!-- Colored Rectangle -->\n",
       "  <polygon points=\"10.0,0.0 130.0,0.0 153.72291510562926,23.72291510562925 33.722915105629255,23.72291510562925\" style=\"fill:#ECB172A0;stroke-width:0\"/>\n",
       "\n",
       "  <!-- Horizontal lines -->\n",
       "  <line x1=\"33\" y1=\"23\" x2=\"153\" y2=\"23\" style=\"stroke-width:2\" />\n",
       "  <line x1=\"33\" y1=\"83\" x2=\"153\" y2=\"83\" style=\"stroke-width:2\" />\n",
       "\n",
       "  <!-- Vertical lines -->\n",
       "  <line x1=\"33\" y1=\"23\" x2=\"33\" y2=\"83\" style=\"stroke-width:2\" />\n",
       "  <line x1=\"153\" y1=\"23\" x2=\"153\" y2=\"83\" style=\"stroke-width:2\" />\n",
       "\n",
       "  <!-- Colored Rectangle -->\n",
       "  <polygon points=\"33.722915105629255,23.72291510562925 153.72291510562926,23.72291510562925 153.72291510562926,83.72291510562926 33.722915105629255,83.72291510562926\" style=\"fill:#ECB172A0;stroke-width:0\"/>\n",
       "\n",
       "  <!-- Text -->\n",
       "  <text x=\"93.722915\" y=\"103.722915\" font-size=\"1.0rem\" font-weight=\"100\" text-anchor=\"middle\" >72</text>\n",
       "  <text x=\"173.722915\" y=\"53.722915\" font-size=\"1.0rem\" font-weight=\"100\" text-anchor=\"middle\" transform=\"rotate(0,173.722915,53.722915)\">36</text>\n",
       "  <text x=\"11.861458\" y=\"91.861458\" font-size=\"1.0rem\" font-weight=\"100\" text-anchor=\"middle\" transform=\"rotate(45,11.861458,91.861458)\">10</text>\n",
       "</svg>\n",
       "</td>\n",
       "</tr>\n",
       "</table>"
      ],
      "text/plain": [
       "dask.array<concatenate, shape=(10, 36, 72), dtype=float64, chunksize=(1, 36, 72), chunktype=numpy.ndarray>"
      ]
     },
     "execution_count": 38,
     "metadata": {},
     "output_type": "execute_result"
    }
   ],
   "source": [
    "%time skill = hindcast.verify(**cp_kwargs)\n",
    "skill['var'].data"
   ]
  },
  {
   "cell_type": "code",
   "execution_count": 91,
   "metadata": {},
   "outputs": [
    {
     "name": "stdout",
     "output_type": "stream",
     "text": [
      "CPU times: user 653 ms, sys: 226 ms, total: 879 ms\n",
      "Wall time: 375 ms\n"
     ]
    }
   ],
   "source": [
    "%time skillc = skill.compute()"
   ]
  },
  {
   "cell_type": "markdown",
   "metadata": {},
   "source": [
    "## `bootstrap()`\n",
    "Bootstrap significant skill"
   ]
  },
  {
   "cell_type": "code",
   "execution_count": 39,
   "metadata": {},
   "outputs": [],
   "source": [
    "iterations=100"
   ]
  },
  {
   "cell_type": "code",
   "execution_count": null,
   "metadata": {},
   "outputs": [],
   "source": [
    "%%time\n",
    "bskill = hindcast.bootstrap(iterations=iterations, reference=['uninitialized'], **cp_kwargs)\n",
    "bskill['var'].data"
   ]
  },
  {
   "cell_type": "code",
   "execution_count": null,
   "metadata": {},
   "outputs": [],
   "source": [
    "improved_by_init = bskill.sel(results='p',skill='uninitialized') <= 0.05\n",
    "%time improved_by_init_c = improved_by_init.compute()"
   ]
  },
  {
   "cell_type": "markdown",
   "metadata": {},
   "source": [
    "# Close down"
   ]
  },
  {
   "cell_type": "code",
   "execution_count": 23,
   "metadata": {},
   "outputs": [],
   "source": [
    "client.close()\n",
    "cluster.close()"
   ]
  },
  {
   "cell_type": "code",
   "execution_count": null,
   "metadata": {},
   "outputs": [],
   "source": []
  }
 ],
 "metadata": {
  "kernelspec": {
   "display_name": "Python 3",
   "language": "python",
   "name": "python3"
  },
  "language_info": {
   "codemirror_mode": {
    "name": "ipython",
    "version": 3
   },
   "file_extension": ".py",
   "mimetype": "text/x-python",
   "name": "python",
   "nbconvert_exporter": "python",
   "pygments_lexer": "ipython3",
   "version": "3.7.8"
  }
 },
 "nbformat": 4,
 "nbformat_minor": 4
}
